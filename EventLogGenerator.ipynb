{
 "cells": [
  {
   "cell_type": "code",
   "execution_count": 1,
   "metadata": {},
   "outputs": [],
   "source": [
    "from pm4py.objects.log.importer.xes import importer as xes_importer\n",
    "from src.train_utils import splitEventLog\n",
    "from EventLogGenerator import EventLogGenerator"
   ]
  },
  {
   "cell_type": "code",
   "execution_count": 2,
   "metadata": {},
   "outputs": [
    {
     "name": "stderr",
     "output_type": "stream",
     "text": [
      "c:\\Users\\vinci\\OneDrive\\Documents\\ProbabilityBasedEventLogGenerator\\.conda\\Lib\\site-packages\\tqdm\\auto.py:21: TqdmWarning: IProgress not found. Please update jupyter and ipywidgets. See https://ipywidgets.readthedocs.io/en/stable/user_install.html\n",
      "  from .autonotebook import tqdm as notebook_tqdm\n",
      "parsing log, completed traces :: 100%|██████████| 8049/8049 [00:04<00:00, 1859.15it/s]\n"
     ]
    }
   ],
   "source": [
    "# import event log\n",
    "\n",
    "log = xes_importer.apply('data\\\\bpi12\\\\bpi12w.xes')"
   ]
  },
  {
   "cell_type": "code",
   "execution_count": 3,
   "metadata": {},
   "outputs": [],
   "source": [
    "# split event log\n",
    "\n",
    "train_log, test_log = splitEventLog(log, train_size = 0.95, split_temporal = True)"
   ]
  },
  {
   "cell_type": "code",
   "execution_count": 4,
   "metadata": {},
   "outputs": [
    {
     "name": "stderr",
     "output_type": "stream",
     "text": [
      "c:\\Users\\vinci\\OneDrive\\Documents\\ProbabilityBasedEventLogGenerator\\.conda\\Lib\\site-packages\\scipy\\stats\\_continuous_distns.py:6626: RuntimeWarning: overflow encountered in divide\n",
      "  return np.sum((1 + np.log(shifted/scale)/shape**2)/shifted)\n",
      "c:\\Users\\vinci\\OneDrive\\Documents\\ProbabilityBasedEventLogGenerator\\.conda\\Lib\\site-packages\\numpy\\_core\\fromnumeric.py:86: RuntimeWarning: overflow encountered in reduce\n",
      "  return ufunc.reduce(obj, axis, dtype, out, **passkwargs)\n",
      "c:\\Users\\vinci\\OneDrive\\Documents\\ProbabilityBasedEventLogGenerator\\.conda\\Lib\\site-packages\\scipy\\stats\\_continuous_distns.py:6626: RuntimeWarning: divide by zero encountered in log\n",
      "  return np.sum((1 + np.log(shifted/scale)/shape**2)/shifted)\n"
     ]
    }
   ],
   "source": [
    "# create generator\n",
    "\n",
    "generator = EventLogGenerator(train_log, label_data_attributes=['AMOUNT_REQ'])"
   ]
  },
  {
   "cell_type": "code",
   "execution_count": 5,
   "metadata": {},
   "outputs": [
    {
     "data": {
      "text/plain": [
       "Timestamp('2012-02-25 13:40:40.293000+0000', tz='UTC')"
      ]
     },
     "execution_count": 5,
     "metadata": {},
     "output_type": "execute_result"
    }
   ],
   "source": [
    "test_log[0][0]['time:timestamp']"
   ]
  },
  {
   "cell_type": "code",
   "execution_count": 6,
   "metadata": {},
   "outputs": [
    {
     "name": "stdout",
     "output_type": "stream",
     "text": [
      "Generate sequences...\n"
     ]
    },
    {
     "name": "stderr",
     "output_type": "stream",
     "text": [
      "100%|██████████| 403/403 [00:00<00:00, 10891.84it/s]\n"
     ]
    },
    {
     "name": "stdout",
     "output_type": "stream",
     "text": [
      "Generate resources...\n"
     ]
    },
    {
     "name": "stderr",
     "output_type": "stream",
     "text": [
      "100%|██████████| 403/403 [00:57<00:00,  6.96it/s]\n"
     ]
    },
    {
     "name": "stdout",
     "output_type": "stream",
     "text": [
      "Generate attributes...\n"
     ]
    },
    {
     "name": "stderr",
     "output_type": "stream",
     "text": [
      "100%|██████████| 403/403 [00:30<00:00, 13.13it/s]\n"
     ]
    },
    {
     "name": "stdout",
     "output_type": "stream",
     "text": [
      "Generate timestamps...\n"
     ]
    },
    {
     "name": "stderr",
     "output_type": "stream",
     "text": [
      "100%|██████████| 403/403 [00:00<00:00, 2651.35it/s]\n"
     ]
    }
   ],
   "source": [
    "# generate event log\n",
    "\n",
    "simulated_traces = generator.apply(N=len(test_log), start_timestamp = '2012-02-08 10:33:41')"
   ]
  },
  {
   "cell_type": "code",
   "execution_count": 7,
   "metadata": {},
   "outputs": [
    {
     "data": {
      "text/html": [
       "<div>\n",
       "<style scoped>\n",
       "    .dataframe tbody tr th:only-of-type {\n",
       "        vertical-align: middle;\n",
       "    }\n",
       "\n",
       "    .dataframe tbody tr th {\n",
       "        vertical-align: top;\n",
       "    }\n",
       "\n",
       "    .dataframe thead th {\n",
       "        text-align: right;\n",
       "    }\n",
       "</style>\n",
       "<table border=\"1\" class=\"dataframe\">\n",
       "  <thead>\n",
       "    <tr style=\"text-align: right;\">\n",
       "      <th></th>\n",
       "      <th>case:concept:name</th>\n",
       "      <th>concept:name</th>\n",
       "      <th>time:timestamp</th>\n",
       "      <th>org:resource</th>\n",
       "      <th>AMOUNT_REQ</th>\n",
       "      <th>lifecycle:transition</th>\n",
       "    </tr>\n",
       "  </thead>\n",
       "  <tbody>\n",
       "    <tr>\n",
       "      <th>0</th>\n",
       "      <td>1</td>\n",
       "      <td>W_Afhandelen leads</td>\n",
       "      <td>2012-02-08 10:33:41.000000</td>\n",
       "      <td>SYS</td>\n",
       "      <td>6000</td>\n",
       "      <td>start</td>\n",
       "    </tr>\n",
       "    <tr>\n",
       "      <th>1</th>\n",
       "      <td>1</td>\n",
       "      <td>W_Afhandelen leads</td>\n",
       "      <td>2012-02-08 10:34:15.758834</td>\n",
       "      <td>SYS</td>\n",
       "      <td>6000</td>\n",
       "      <td>complete</td>\n",
       "    </tr>\n",
       "    <tr>\n",
       "      <th>2</th>\n",
       "      <td>1</td>\n",
       "      <td>W_Completeren aanvraag</td>\n",
       "      <td>2012-02-08 11:25:57.318093</td>\n",
       "      <td>11180.0</td>\n",
       "      <td>6000</td>\n",
       "      <td>start</td>\n",
       "    </tr>\n",
       "    <tr>\n",
       "      <th>3</th>\n",
       "      <td>1</td>\n",
       "      <td>W_Completeren aanvraag</td>\n",
       "      <td>2012-02-08 11:27:19.439368</td>\n",
       "      <td>11180.0</td>\n",
       "      <td>6000</td>\n",
       "      <td>complete</td>\n",
       "    </tr>\n",
       "    <tr>\n",
       "      <th>4</th>\n",
       "      <td>2</td>\n",
       "      <td>W_Completeren aanvraag</td>\n",
       "      <td>2012-02-08 10:41:13.650252</td>\n",
       "      <td>SYS</td>\n",
       "      <td>10000</td>\n",
       "      <td>start</td>\n",
       "    </tr>\n",
       "    <tr>\n",
       "      <th>...</th>\n",
       "      <td>...</td>\n",
       "      <td>...</td>\n",
       "      <td>...</td>\n",
       "      <td>...</td>\n",
       "      <td>...</td>\n",
       "      <td>...</td>\n",
       "    </tr>\n",
       "    <tr>\n",
       "      <th>5503</th>\n",
       "      <td>403</td>\n",
       "      <td>W_Valideren aanvraag</td>\n",
       "      <td>2012-03-08 13:46:13.210927</td>\n",
       "      <td>10809.0</td>\n",
       "      <td>2500</td>\n",
       "      <td>complete</td>\n",
       "    </tr>\n",
       "    <tr>\n",
       "      <th>5504</th>\n",
       "      <td>403</td>\n",
       "      <td>W_Valideren aanvraag</td>\n",
       "      <td>2012-03-08 16:11:23.930686</td>\n",
       "      <td>10809.0</td>\n",
       "      <td>2500</td>\n",
       "      <td>start</td>\n",
       "    </tr>\n",
       "    <tr>\n",
       "      <th>5505</th>\n",
       "      <td>403</td>\n",
       "      <td>W_Valideren aanvraag</td>\n",
       "      <td>2012-03-08 16:28:02.609535</td>\n",
       "      <td>10809.0</td>\n",
       "      <td>2500</td>\n",
       "      <td>complete</td>\n",
       "    </tr>\n",
       "    <tr>\n",
       "      <th>5506</th>\n",
       "      <td>403</td>\n",
       "      <td>W_Nabellen incomplete dossiers</td>\n",
       "      <td>2012-03-09 20:35:13.587264</td>\n",
       "      <td>10863.0</td>\n",
       "      <td>2500</td>\n",
       "      <td>start</td>\n",
       "    </tr>\n",
       "    <tr>\n",
       "      <th>5507</th>\n",
       "      <td>403</td>\n",
       "      <td>W_Nabellen incomplete dossiers</td>\n",
       "      <td>2012-03-09 20:39:39.290318</td>\n",
       "      <td>10863.0</td>\n",
       "      <td>2500</td>\n",
       "      <td>complete</td>\n",
       "    </tr>\n",
       "  </tbody>\n",
       "</table>\n",
       "<p>5508 rows × 6 columns</p>\n",
       "</div>"
      ],
      "text/plain": [
       "     case:concept:name                    concept:name  \\\n",
       "0                    1              W_Afhandelen leads   \n",
       "1                    1              W_Afhandelen leads   \n",
       "2                    1          W_Completeren aanvraag   \n",
       "3                    1          W_Completeren aanvraag   \n",
       "4                    2          W_Completeren aanvraag   \n",
       "...                ...                             ...   \n",
       "5503               403            W_Valideren aanvraag   \n",
       "5504               403            W_Valideren aanvraag   \n",
       "5505               403            W_Valideren aanvraag   \n",
       "5506               403  W_Nabellen incomplete dossiers   \n",
       "5507               403  W_Nabellen incomplete dossiers   \n",
       "\n",
       "                 time:timestamp org:resource  AMOUNT_REQ lifecycle:transition  \n",
       "0    2012-02-08 10:33:41.000000          SYS        6000                start  \n",
       "1    2012-02-08 10:34:15.758834          SYS        6000             complete  \n",
       "2    2012-02-08 11:25:57.318093      11180.0        6000                start  \n",
       "3    2012-02-08 11:27:19.439368      11180.0        6000             complete  \n",
       "4    2012-02-08 10:41:13.650252          SYS       10000                start  \n",
       "...                         ...          ...         ...                  ...  \n",
       "5503 2012-03-08 13:46:13.210927      10809.0        2500             complete  \n",
       "5504 2012-03-08 16:11:23.930686      10809.0        2500                start  \n",
       "5505 2012-03-08 16:28:02.609535      10809.0        2500             complete  \n",
       "5506 2012-03-09 20:35:13.587264      10863.0        2500                start  \n",
       "5507 2012-03-09 20:39:39.290318      10863.0        2500             complete  \n",
       "\n",
       "[5508 rows x 6 columns]"
      ]
     },
     "execution_count": 7,
     "metadata": {},
     "output_type": "execute_result"
    }
   ],
   "source": [
    "simulated_traces"
   ]
  }
 ],
 "metadata": {
  "kernelspec": {
   "display_name": "Python 3",
   "language": "python",
   "name": "python3"
  },
  "language_info": {
   "codemirror_mode": {
    "name": "ipython",
    "version": 3
   },
   "file_extension": ".py",
   "mimetype": "text/x-python",
   "name": "python",
   "nbconvert_exporter": "python",
   "pygments_lexer": "ipython3",
   "version": "3.11.10"
  }
 },
 "nbformat": 4,
 "nbformat_minor": 2
}
