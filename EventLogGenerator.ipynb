{
 "cells": [
  {
   "cell_type": "code",
   "execution_count": 1,
   "metadata": {},
   "outputs": [],
   "source": [
    "from pm4py.objects.log.importer.xes import importer as xes_importer\n",
    "from src.train_utils import splitEventLog\n",
    "from EventLogGenerator import EventLogGenerator"
   ]
  },
  {
   "cell_type": "code",
   "execution_count": 2,
   "metadata": {},
   "outputs": [
    {
     "name": "stderr",
     "output_type": "stream",
     "text": [
      "c:\\Users\\vinci\\OneDrive\\Documents\\ProbabilityBasedEventLogGenerator\\.conda\\Lib\\site-packages\\tqdm\\auto.py:21: TqdmWarning: IProgress not found. Please update jupyter and ipywidgets. See https://ipywidgets.readthedocs.io/en/stable/user_install.html\n",
      "  from .autonotebook import tqdm as notebook_tqdm\n",
      "parsing log, completed traces :: 100%|██████████| 954/954 [00:00<00:00, 1336.42it/s]\n"
     ]
    }
   ],
   "source": [
    "# import event log\n",
    "\n",
    "log = xes_importer.apply('data\\Consulta\\ConsultaDataMining201618.xes')"
   ]
  },
  {
   "cell_type": "code",
   "execution_count": 3,
   "metadata": {},
   "outputs": [
    {
     "name": "stderr",
     "output_type": "stream",
     "text": [
      "exporting log, completed traces :: 100%|██████████| 763/763 [00:00<00:00, 1898.06it/s]\n",
      "exporting log, completed traces :: 100%|██████████| 191/191 [00:00<00:00, 1978.85it/s]\n"
     ]
    }
   ],
   "source": [
    "# split event log\n",
    "\n",
    "train_log, test_log = splitEventLog(log, train_size = 0.8, split_temporal = False, save_to = 'data/Consulta')"
   ]
  },
  {
   "cell_type": "code",
   "execution_count": 4,
   "metadata": {},
   "outputs": [],
   "source": [
    "# create generator\n",
    "\n",
    "generator = EventLogGenerator(train_log)"
   ]
  },
  {
   "cell_type": "code",
   "execution_count": 5,
   "metadata": {},
   "outputs": [
    {
     "name": "stdout",
     "output_type": "stream",
     "text": [
      "Generate sequences...\n"
     ]
    },
    {
     "name": "stderr",
     "output_type": "stream",
     "text": [
      "100%|██████████| 191/191 [00:00<00:00, 14321.17it/s]\n"
     ]
    },
    {
     "name": "stdout",
     "output_type": "stream",
     "text": [
      "Generate resources...\n"
     ]
    },
    {
     "name": "stderr",
     "output_type": "stream",
     "text": [
      "100%|██████████| 191/191 [00:00<00:00, 193.34it/s]\n"
     ]
    },
    {
     "name": "stdout",
     "output_type": "stream",
     "text": [
      "Generate timestamps...\n"
     ]
    },
    {
     "name": "stderr",
     "output_type": "stream",
     "text": [
      "100%|██████████| 191/191 [00:00<00:00, 86289.54it/s]\n"
     ]
    }
   ],
   "source": [
    "# generate event log\n",
    "\n",
    "simulated_traces = generator.apply(N=len(test_log), start_timestamp = str(test_log[0][0]['time:timestamp']).split('+')[0])"
   ]
  },
  {
   "cell_type": "code",
   "execution_count": 6,
   "metadata": {},
   "outputs": [
    {
     "data": {
      "text/html": [
       "<div>\n",
       "<style scoped>\n",
       "    .dataframe tbody tr th:only-of-type {\n",
       "        vertical-align: middle;\n",
       "    }\n",
       "\n",
       "    .dataframe tbody tr th {\n",
       "        vertical-align: top;\n",
       "    }\n",
       "\n",
       "    .dataframe thead th {\n",
       "        text-align: right;\n",
       "    }\n",
       "</style>\n",
       "<table border=\"1\" class=\"dataframe\">\n",
       "  <thead>\n",
       "    <tr style=\"text-align: right;\">\n",
       "      <th></th>\n",
       "      <th>case:concept:name</th>\n",
       "      <th>concept:name</th>\n",
       "      <th>time:timestamp</th>\n",
       "      <th>org:resources</th>\n",
       "      <th>lifecyle:transition</th>\n",
       "    </tr>\n",
       "  </thead>\n",
       "  <tbody>\n",
       "    <tr>\n",
       "      <th>0</th>\n",
       "      <td>1</td>\n",
       "      <td>Start</td>\n",
       "      <td>2016-02-02 12:32:05.124304</td>\n",
       "      <td>Start</td>\n",
       "      <td>start</td>\n",
       "    </tr>\n",
       "    <tr>\n",
       "      <th>1</th>\n",
       "      <td>1</td>\n",
       "      <td>Start</td>\n",
       "      <td>2016-02-02 12:32:05.124304</td>\n",
       "      <td>Start</td>\n",
       "      <td>complete</td>\n",
       "    </tr>\n",
       "    <tr>\n",
       "      <th>2</th>\n",
       "      <td>1</td>\n",
       "      <td>Traer informacion estudiante - banner</td>\n",
       "      <td>2016-02-02 12:32:05.124304</td>\n",
       "      <td>22829</td>\n",
       "      <td>start</td>\n",
       "    </tr>\n",
       "    <tr>\n",
       "      <th>3</th>\n",
       "      <td>1</td>\n",
       "      <td>Traer informacion estudiante - banner</td>\n",
       "      <td>2016-02-02 12:32:05.124304</td>\n",
       "      <td>22829</td>\n",
       "      <td>complete</td>\n",
       "    </tr>\n",
       "    <tr>\n",
       "      <th>4</th>\n",
       "      <td>1</td>\n",
       "      <td>Radicar Solicitud Homologacion</td>\n",
       "      <td>2016-02-02 12:32:05.838778</td>\n",
       "      <td>22829</td>\n",
       "      <td>start</td>\n",
       "    </tr>\n",
       "    <tr>\n",
       "      <th>...</th>\n",
       "      <td>...</td>\n",
       "      <td>...</td>\n",
       "      <td>...</td>\n",
       "      <td>...</td>\n",
       "      <td>...</td>\n",
       "    </tr>\n",
       "    <tr>\n",
       "      <th>2701</th>\n",
       "      <td>191</td>\n",
       "      <td>Transferir creditos homologables</td>\n",
       "      <td>2016-03-20 04:09:14.051765</td>\n",
       "      <td>12535</td>\n",
       "      <td>complete</td>\n",
       "    </tr>\n",
       "    <tr>\n",
       "      <th>2702</th>\n",
       "      <td>191</td>\n",
       "      <td>Transferir Creditos</td>\n",
       "      <td>2016-03-20 04:09:31.625625</td>\n",
       "      <td>12535</td>\n",
       "      <td>start</td>\n",
       "    </tr>\n",
       "    <tr>\n",
       "      <th>2703</th>\n",
       "      <td>191</td>\n",
       "      <td>Transferir Creditos</td>\n",
       "      <td>2016-03-20 04:09:31.625625</td>\n",
       "      <td>12535</td>\n",
       "      <td>complete</td>\n",
       "    </tr>\n",
       "    <tr>\n",
       "      <th>2704</th>\n",
       "      <td>191</td>\n",
       "      <td>End</td>\n",
       "      <td>2016-03-20 04:09:31.625625</td>\n",
       "      <td>End</td>\n",
       "      <td>start</td>\n",
       "    </tr>\n",
       "    <tr>\n",
       "      <th>2705</th>\n",
       "      <td>191</td>\n",
       "      <td>End</td>\n",
       "      <td>2016-03-20 04:09:31.625625</td>\n",
       "      <td>End</td>\n",
       "      <td>complete</td>\n",
       "    </tr>\n",
       "  </tbody>\n",
       "</table>\n",
       "<p>2706 rows × 5 columns</p>\n",
       "</div>"
      ],
      "text/plain": [
       "     case:concept:name                           concept:name  \\\n",
       "0                    1                                  Start   \n",
       "1                    1                                  Start   \n",
       "2                    1  Traer informacion estudiante - banner   \n",
       "3                    1  Traer informacion estudiante - banner   \n",
       "4                    1         Radicar Solicitud Homologacion   \n",
       "...                ...                                    ...   \n",
       "2701               191       Transferir creditos homologables   \n",
       "2702               191                    Transferir Creditos   \n",
       "2703               191                    Transferir Creditos   \n",
       "2704               191                                    End   \n",
       "2705               191                                    End   \n",
       "\n",
       "                 time:timestamp org:resources lifecyle:transition  \n",
       "0    2016-02-02 12:32:05.124304         Start               start  \n",
       "1    2016-02-02 12:32:05.124304         Start            complete  \n",
       "2    2016-02-02 12:32:05.124304         22829               start  \n",
       "3    2016-02-02 12:32:05.124304         22829            complete  \n",
       "4    2016-02-02 12:32:05.838778         22829               start  \n",
       "...                         ...           ...                 ...  \n",
       "2701 2016-03-20 04:09:14.051765         12535            complete  \n",
       "2702 2016-03-20 04:09:31.625625         12535               start  \n",
       "2703 2016-03-20 04:09:31.625625         12535            complete  \n",
       "2704 2016-03-20 04:09:31.625625           End               start  \n",
       "2705 2016-03-20 04:09:31.625625           End            complete  \n",
       "\n",
       "[2706 rows x 5 columns]"
      ]
     },
     "execution_count": 6,
     "metadata": {},
     "output_type": "execute_result"
    }
   ],
   "source": [
    "simulated_traces"
   ]
  }
 ],
 "metadata": {
  "kernelspec": {
   "display_name": ".conda",
   "language": "python",
   "name": "python3"
  },
  "language_info": {
   "codemirror_mode": {
    "name": "ipython",
    "version": 3
   },
   "file_extension": ".py",
   "mimetype": "text/x-python",
   "name": "python",
   "nbconvert_exporter": "python",
   "pygments_lexer": "ipython3",
   "version": "3.11.10"
  }
 },
 "nbformat": 4,
 "nbformat_minor": 2
}
