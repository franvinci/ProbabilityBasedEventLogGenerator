{
 "cells": [
  {
   "cell_type": "code",
   "execution_count": 1,
   "metadata": {},
   "outputs": [],
   "source": [
    "from pm4py.objects.log.importer.xes import importer as xes_importer\n",
    "from src.train_utils import splitEventLog\n",
    "from EventLogGenerator import EventLogGenerator"
   ]
  },
  {
   "cell_type": "code",
   "execution_count": 2,
   "metadata": {},
   "outputs": [
    {
     "name": "stderr",
     "output_type": "stream",
     "text": [
      "/home/fra/Documents/ProbabilityBasedEventLogGenerator/.conda/lib/python3.11/site-packages/tqdm/auto.py:21: TqdmWarning: IProgress not found. Please update jupyter and ipywidgets. See https://ipywidgets.readthedocs.io/en/stable/user_install.html\n",
      "  from .autonotebook import tqdm as notebook_tqdm\n",
      "parsing log, completed traces :: 100%|██████████| 225/225 [00:00<00:00, 458.16it/s]\n"
     ]
    }
   ],
   "source": [
    "# import event log\n",
    "\n",
    "log = xes_importer.apply(\"data/Production/production.xes\")"
   ]
  },
  {
   "cell_type": "code",
   "execution_count": 3,
   "metadata": {},
   "outputs": [],
   "source": [
    "# split event log\n",
    "\n",
    "train_log, test_log = splitEventLog(log, train_size = 0.80, split_temporal = True)"
   ]
  },
  {
   "cell_type": "code",
   "execution_count": 4,
   "metadata": {},
   "outputs": [
    {
     "name": "stderr",
     "output_type": "stream",
     "text": [
      "/home/fra/Documents/ProbabilityBasedEventLogGenerator/.conda/lib/python3.11/site-packages/scipy/stats/_continuous_distns.py:6626: RuntimeWarning: overflow encountered in divide\n",
      "  return np.sum((1 + np.log(shifted/scale)/shape**2)/shifted)\n",
      "/home/fra/Documents/ProbabilityBasedEventLogGenerator/.conda/lib/python3.11/site-packages/numpy/_core/fromnumeric.py:86: RuntimeWarning: overflow encountered in reduce\n",
      "  return ufunc.reduce(obj, axis, dtype, out, **passkwargs)\n"
     ]
    }
   ],
   "source": [
    "# create generator\n",
    "\n",
    "generator = EventLogGenerator(train_log, label_data_attributes=['Work Order  Qty', 'Part Desc.', 'Report Type', 'Qty Completed', 'Qty Rejected', 'Qty for MRB', 'Rework'])"
   ]
  },
  {
   "cell_type": "code",
   "execution_count": 5,
   "metadata": {},
   "outputs": [
    {
     "data": {
      "text/plain": [
       "Timestamp('2012-03-12 17:00:00+0000', tz='UTC')"
      ]
     },
     "execution_count": 5,
     "metadata": {},
     "output_type": "execute_result"
    }
   ],
   "source": [
    "test_log[0][0]['time:timestamp']"
   ]
  },
  {
   "cell_type": "code",
   "execution_count": 6,
   "metadata": {},
   "outputs": [
    {
     "name": "stdout",
     "output_type": "stream",
     "text": [
      "Generate sequences...\n"
     ]
    },
    {
     "name": "stderr",
     "output_type": "stream",
     "text": [
      "100%|██████████| 45/45 [00:00<00:00, 2393.68it/s]\n"
     ]
    },
    {
     "name": "stdout",
     "output_type": "stream",
     "text": [
      "Generate resources...\n"
     ]
    },
    {
     "name": "stderr",
     "output_type": "stream",
     "text": [
      "100%|██████████| 45/45 [00:00<00:00, 441.17it/s]\n"
     ]
    },
    {
     "name": "stdout",
     "output_type": "stream",
     "text": [
      "Generate attributes...\n"
     ]
    },
    {
     "name": "stderr",
     "output_type": "stream",
     "text": [
      "100%|██████████| 45/45 [00:00<00:00, 46.70it/s]\n"
     ]
    },
    {
     "name": "stdout",
     "output_type": "stream",
     "text": [
      "Generate timestamps...\n"
     ]
    },
    {
     "name": "stderr",
     "output_type": "stream",
     "text": [
      "100%|██████████| 45/45 [00:00<00:00, 269.49it/s]\n"
     ]
    }
   ],
   "source": [
    "# generate event log\n",
    "\n",
    "simulated_traces = generator.apply(N=len(test_log), start_timestamp = test_log[0][0]['time:timestamp'])"
   ]
  },
  {
   "cell_type": "code",
   "execution_count": 7,
   "metadata": {},
   "outputs": [
    {
     "data": {
      "text/html": [
       "<div>\n",
       "<style scoped>\n",
       "    .dataframe tbody tr th:only-of-type {\n",
       "        vertical-align: middle;\n",
       "    }\n",
       "\n",
       "    .dataframe tbody tr th {\n",
       "        vertical-align: top;\n",
       "    }\n",
       "\n",
       "    .dataframe thead th {\n",
       "        text-align: right;\n",
       "    }\n",
       "</style>\n",
       "<table border=\"1\" class=\"dataframe\">\n",
       "  <thead>\n",
       "    <tr style=\"text-align: right;\">\n",
       "      <th></th>\n",
       "      <th>case:concept:name</th>\n",
       "      <th>concept:name</th>\n",
       "      <th>time:timestamp</th>\n",
       "      <th>org:resource</th>\n",
       "      <th>Work Order  Qty</th>\n",
       "      <th>Part Desc.</th>\n",
       "      <th>Report Type</th>\n",
       "      <th>Qty Completed</th>\n",
       "      <th>Qty Rejected</th>\n",
       "      <th>Qty for MRB</th>\n",
       "      <th>Rework</th>\n",
       "      <th>lifecycle:transition</th>\n",
       "    </tr>\n",
       "  </thead>\n",
       "  <tbody>\n",
       "    <tr>\n",
       "      <th>0</th>\n",
       "      <td>1</td>\n",
       "      <td>Turning &amp; Milling - Machine 4</td>\n",
       "      <td>2012-03-12 17:00:00+00:00</td>\n",
       "      <td>Machine 4 - Turning &amp; Milling</td>\n",
       "      <td>60</td>\n",
       "      <td>Shim</td>\n",
       "      <td>S</td>\n",
       "      <td>0</td>\n",
       "      <td>0</td>\n",
       "      <td>0</td>\n",
       "      <td>NA</td>\n",
       "      <td>start</td>\n",
       "    </tr>\n",
       "    <tr>\n",
       "      <th>1</th>\n",
       "      <td>1</td>\n",
       "      <td>Turning &amp; Milling - Machine 4</td>\n",
       "      <td>2012-03-12 19:32:09.112790+00:00</td>\n",
       "      <td>Machine 4 - Turning &amp; Milling</td>\n",
       "      <td>60</td>\n",
       "      <td>Shim</td>\n",
       "      <td>S</td>\n",
       "      <td>0</td>\n",
       "      <td>0</td>\n",
       "      <td>0</td>\n",
       "      <td>NA</td>\n",
       "      <td>complete</td>\n",
       "    </tr>\n",
       "    <tr>\n",
       "      <th>2</th>\n",
       "      <td>1</td>\n",
       "      <td>Setup - Machine 4</td>\n",
       "      <td>2012-03-12 19:34:09.112790+00:00</td>\n",
       "      <td>Machine 4 - Turning &amp; Milling</td>\n",
       "      <td>60</td>\n",
       "      <td>Shim</td>\n",
       "      <td>S</td>\n",
       "      <td>0</td>\n",
       "      <td>0</td>\n",
       "      <td>0</td>\n",
       "      <td>NA</td>\n",
       "      <td>start</td>\n",
       "    </tr>\n",
       "    <tr>\n",
       "      <th>3</th>\n",
       "      <td>1</td>\n",
       "      <td>Setup - Machine 4</td>\n",
       "      <td>2012-03-12 21:27:09.112790+00:00</td>\n",
       "      <td>Machine 4 - Turning &amp; Milling</td>\n",
       "      <td>60</td>\n",
       "      <td>Shim</td>\n",
       "      <td>S</td>\n",
       "      <td>0</td>\n",
       "      <td>0</td>\n",
       "      <td>0</td>\n",
       "      <td>NA</td>\n",
       "      <td>complete</td>\n",
       "    </tr>\n",
       "    <tr>\n",
       "      <th>4</th>\n",
       "      <td>1</td>\n",
       "      <td>Turning &amp; Milling - Machine 4</td>\n",
       "      <td>2012-03-13 10:50:09.112790+00:00</td>\n",
       "      <td>Machine 4 - Turning &amp; Milling</td>\n",
       "      <td>60</td>\n",
       "      <td>Shim</td>\n",
       "      <td>S</td>\n",
       "      <td>1</td>\n",
       "      <td>0</td>\n",
       "      <td>0</td>\n",
       "      <td>NA</td>\n",
       "      <td>start</td>\n",
       "    </tr>\n",
       "    <tr>\n",
       "      <th>...</th>\n",
       "      <td>...</td>\n",
       "      <td>...</td>\n",
       "      <td>...</td>\n",
       "      <td>...</td>\n",
       "      <td>...</td>\n",
       "      <td>...</td>\n",
       "      <td>...</td>\n",
       "      <td>...</td>\n",
       "      <td>...</td>\n",
       "      <td>...</td>\n",
       "      <td>...</td>\n",
       "      <td>...</td>\n",
       "    </tr>\n",
       "    <tr>\n",
       "      <th>1767</th>\n",
       "      <td>45</td>\n",
       "      <td>Final Inspection Q.C.</td>\n",
       "      <td>2012-04-26 10:51:38.788422+00:00</td>\n",
       "      <td>Quality Check 1</td>\n",
       "      <td>66</td>\n",
       "      <td>Ballnut</td>\n",
       "      <td>D</td>\n",
       "      <td>64</td>\n",
       "      <td>0</td>\n",
       "      <td>0</td>\n",
       "      <td>NA</td>\n",
       "      <td>complete</td>\n",
       "    </tr>\n",
       "    <tr>\n",
       "      <th>1768</th>\n",
       "      <td>45</td>\n",
       "      <td>Final Inspection Q.C.</td>\n",
       "      <td>2012-04-27 13:29:44.414717+00:00</td>\n",
       "      <td>Quality Check 1</td>\n",
       "      <td>66</td>\n",
       "      <td>Ballnut</td>\n",
       "      <td>D</td>\n",
       "      <td>64</td>\n",
       "      <td>0</td>\n",
       "      <td>0</td>\n",
       "      <td>NA</td>\n",
       "      <td>start</td>\n",
       "    </tr>\n",
       "    <tr>\n",
       "      <th>1769</th>\n",
       "      <td>45</td>\n",
       "      <td>Final Inspection Q.C.</td>\n",
       "      <td>2012-04-27 13:53:52.704631+00:00</td>\n",
       "      <td>Quality Check 1</td>\n",
       "      <td>66</td>\n",
       "      <td>Ballnut</td>\n",
       "      <td>D</td>\n",
       "      <td>64</td>\n",
       "      <td>0</td>\n",
       "      <td>0</td>\n",
       "      <td>NA</td>\n",
       "      <td>complete</td>\n",
       "    </tr>\n",
       "    <tr>\n",
       "      <th>1770</th>\n",
       "      <td>45</td>\n",
       "      <td>Packing</td>\n",
       "      <td>2012-04-29 01:55:44.033063+00:00</td>\n",
       "      <td>Packing</td>\n",
       "      <td>66</td>\n",
       "      <td>Ballnut</td>\n",
       "      <td>D</td>\n",
       "      <td>64</td>\n",
       "      <td>0</td>\n",
       "      <td>0</td>\n",
       "      <td>NA</td>\n",
       "      <td>start</td>\n",
       "    </tr>\n",
       "    <tr>\n",
       "      <th>1771</th>\n",
       "      <td>45</td>\n",
       "      <td>Packing</td>\n",
       "      <td>2012-04-30 00:55:44.033063+00:00</td>\n",
       "      <td>Packing</td>\n",
       "      <td>66</td>\n",
       "      <td>Ballnut</td>\n",
       "      <td>D</td>\n",
       "      <td>64</td>\n",
       "      <td>0</td>\n",
       "      <td>0</td>\n",
       "      <td>NA</td>\n",
       "      <td>complete</td>\n",
       "    </tr>\n",
       "  </tbody>\n",
       "</table>\n",
       "<p>1772 rows × 12 columns</p>\n",
       "</div>"
      ],
      "text/plain": [
       "     case:concept:name                   concept:name  \\\n",
       "0                    1  Turning & Milling - Machine 4   \n",
       "1                    1  Turning & Milling - Machine 4   \n",
       "2                    1              Setup - Machine 4   \n",
       "3                    1              Setup - Machine 4   \n",
       "4                    1  Turning & Milling - Machine 4   \n",
       "...                ...                            ...   \n",
       "1767                45          Final Inspection Q.C.   \n",
       "1768                45          Final Inspection Q.C.   \n",
       "1769                45          Final Inspection Q.C.   \n",
       "1770                45                        Packing   \n",
       "1771                45                        Packing   \n",
       "\n",
       "                       time:timestamp                   org:resource  \\\n",
       "0           2012-03-12 17:00:00+00:00  Machine 4 - Turning & Milling   \n",
       "1    2012-03-12 19:32:09.112790+00:00  Machine 4 - Turning & Milling   \n",
       "2    2012-03-12 19:34:09.112790+00:00  Machine 4 - Turning & Milling   \n",
       "3    2012-03-12 21:27:09.112790+00:00  Machine 4 - Turning & Milling   \n",
       "4    2012-03-13 10:50:09.112790+00:00  Machine 4 - Turning & Milling   \n",
       "...                               ...                            ...   \n",
       "1767 2012-04-26 10:51:38.788422+00:00                Quality Check 1   \n",
       "1768 2012-04-27 13:29:44.414717+00:00                Quality Check 1   \n",
       "1769 2012-04-27 13:53:52.704631+00:00                Quality Check 1   \n",
       "1770 2012-04-29 01:55:44.033063+00:00                        Packing   \n",
       "1771 2012-04-30 00:55:44.033063+00:00                        Packing   \n",
       "\n",
       "      Work Order  Qty Part Desc. Report Type  Qty Completed  Qty Rejected  \\\n",
       "0                  60       Shim           S              0             0   \n",
       "1                  60       Shim           S              0             0   \n",
       "2                  60       Shim           S              0             0   \n",
       "3                  60       Shim           S              0             0   \n",
       "4                  60       Shim           S              1             0   \n",
       "...               ...        ...         ...            ...           ...   \n",
       "1767               66    Ballnut           D             64             0   \n",
       "1768               66    Ballnut           D             64             0   \n",
       "1769               66    Ballnut           D             64             0   \n",
       "1770               66    Ballnut           D             64             0   \n",
       "1771               66    Ballnut           D             64             0   \n",
       "\n",
       "      Qty for MRB Rework lifecycle:transition  \n",
       "0               0     NA                start  \n",
       "1               0     NA             complete  \n",
       "2               0     NA                start  \n",
       "3               0     NA             complete  \n",
       "4               0     NA                start  \n",
       "...           ...    ...                  ...  \n",
       "1767            0     NA             complete  \n",
       "1768            0     NA                start  \n",
       "1769            0     NA             complete  \n",
       "1770            0     NA                start  \n",
       "1771            0     NA             complete  \n",
       "\n",
       "[1772 rows x 12 columns]"
      ]
     },
     "execution_count": 7,
     "metadata": {},
     "output_type": "execute_result"
    }
   ],
   "source": [
    "simulated_traces"
   ]
  }
 ],
 "metadata": {
  "kernelspec": {
   "display_name": "Python 3",
   "language": "python",
   "name": "python3"
  },
  "language_info": {
   "codemirror_mode": {
    "name": "ipython",
    "version": 3
   },
   "file_extension": ".py",
   "mimetype": "text/x-python",
   "name": "python",
   "nbconvert_exporter": "python",
   "pygments_lexer": "ipython3",
   "version": "3.11.11"
  }
 },
 "nbformat": 4,
 "nbformat_minor": 2
}
