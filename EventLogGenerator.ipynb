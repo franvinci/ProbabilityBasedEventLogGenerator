{
 "cells": [
  {
   "cell_type": "code",
   "execution_count": 1,
   "metadata": {},
   "outputs": [],
   "source": [
    "from pm4py.objects.log.importer.xes import importer as xes_importer\n",
    "from src.train_utils import splitEventLog\n",
    "from EventLogGenerator import EventLogGenerator"
   ]
  },
  {
   "cell_type": "code",
   "execution_count": 2,
   "metadata": {},
   "outputs": [
    {
     "name": "stderr",
     "output_type": "stream",
     "text": [
      "/home/fra/Documents/ProbabilityBasedEventLogGenerator/.conda/lib/python3.11/site-packages/tqdm/auto.py:21: TqdmWarning: IProgress not found. Please update jupyter and ipywidgets. See https://ipywidgets.readthedocs.io/en/stable/user_install.html\n",
      "  from .autonotebook import tqdm as notebook_tqdm\n",
      "parsing log, completed traces :: 100%|██████████| 225/225 [00:00<00:00, 444.45it/s]\n"
     ]
    }
   ],
   "source": [
    "# import event log\n",
    "\n",
    "log = xes_importer.apply(\"data/Production/production.xes\")"
   ]
  },
  {
   "cell_type": "code",
   "execution_count": 3,
   "metadata": {},
   "outputs": [],
   "source": [
    "# split event log\n",
    "\n",
    "train_log, test_log = splitEventLog(log, train_size = 0.80, split_temporal = True)"
   ]
  },
  {
   "cell_type": "code",
   "execution_count": 4,
   "metadata": {},
   "outputs": [
    {
     "name": "stderr",
     "output_type": "stream",
     "text": [
      "/home/fra/Documents/ProbabilityBasedEventLogGenerator/.conda/lib/python3.11/site-packages/scipy/stats/_continuous_distns.py:6626: RuntimeWarning: overflow encountered in divide\n",
      "  return np.sum((1 + np.log(shifted/scale)/shape**2)/shifted)\n",
      "/home/fra/Documents/ProbabilityBasedEventLogGenerator/.conda/lib/python3.11/site-packages/numpy/_core/fromnumeric.py:86: RuntimeWarning: overflow encountered in reduce\n",
      "  return ufunc.reduce(obj, axis, dtype, out, **passkwargs)\n"
     ]
    }
   ],
   "source": [
    "# create generator\n",
    "\n",
    "generator = EventLogGenerator(train_log, label_data_attributes=['Work Order  Qty', 'Part Desc.', 'Report Type', 'Qty Completed', 'Qty Rejected', 'Qty for MRB', 'Rework'])"
   ]
  },
  {
   "cell_type": "code",
   "execution_count": 5,
   "metadata": {},
   "outputs": [
    {
     "data": {
      "text/plain": [
       "Timestamp('2012-03-12 17:00:00+0000', tz='UTC')"
      ]
     },
     "execution_count": 5,
     "metadata": {},
     "output_type": "execute_result"
    }
   ],
   "source": [
    "test_log[0][0]['time:timestamp']"
   ]
  },
  {
   "cell_type": "code",
   "execution_count": 6,
   "metadata": {},
   "outputs": [
    {
     "name": "stdout",
     "output_type": "stream",
     "text": [
      "Generate sequences...\n"
     ]
    },
    {
     "name": "stderr",
     "output_type": "stream",
     "text": [
      "100%|██████████| 45/45 [00:10<00:00,  4.36it/s]\n"
     ]
    },
    {
     "name": "stdout",
     "output_type": "stream",
     "text": [
      "Generate resources...\n"
     ]
    },
    {
     "name": "stderr",
     "output_type": "stream",
     "text": [
      "100%|██████████| 45/45 [00:09<00:00,  4.81it/s]"
     ]
    },
    {
     "name": "stdout",
     "output_type": "stream",
     "text": [
      "Generate attributes...\n"
     ]
    },
    {
     "name": "stderr",
     "output_type": "stream",
     "text": [
      "\n",
      "100%|██████████| 45/45 [00:10<00:00,  4.49it/s]\n"
     ]
    },
    {
     "name": "stdout",
     "output_type": "stream",
     "text": [
      "Generate timestamps...\n"
     ]
    },
    {
     "name": "stderr",
     "output_type": "stream",
     "text": [
      "100%|██████████| 45/45 [00:00<00:00, 169.79it/s]\n"
     ]
    }
   ],
   "source": [
    "# generate event log\n",
    "\n",
    "simulated_traces = generator.apply(N=len(test_log), start_timestamp = test_log[0][0]['time:timestamp'])"
   ]
  },
  {
   "cell_type": "code",
   "execution_count": 7,
   "metadata": {},
   "outputs": [
    {
     "data": {
      "text/html": [
       "<div>\n",
       "<style scoped>\n",
       "    .dataframe tbody tr th:only-of-type {\n",
       "        vertical-align: middle;\n",
       "    }\n",
       "\n",
       "    .dataframe tbody tr th {\n",
       "        vertical-align: top;\n",
       "    }\n",
       "\n",
       "    .dataframe thead th {\n",
       "        text-align: right;\n",
       "    }\n",
       "</style>\n",
       "<table border=\"1\" class=\"dataframe\">\n",
       "  <thead>\n",
       "    <tr style=\"text-align: right;\">\n",
       "      <th></th>\n",
       "      <th>case:concept:name</th>\n",
       "      <th>concept:name</th>\n",
       "      <th>time:timestamp</th>\n",
       "      <th>org:resource</th>\n",
       "      <th>Work Order  Qty</th>\n",
       "      <th>Part Desc.</th>\n",
       "      <th>Report Type</th>\n",
       "      <th>Qty Completed</th>\n",
       "      <th>Qty Rejected</th>\n",
       "      <th>Qty for MRB</th>\n",
       "      <th>Rework</th>\n",
       "      <th>lifecycle:transition</th>\n",
       "    </tr>\n",
       "  </thead>\n",
       "  <tbody>\n",
       "    <tr>\n",
       "      <th>0</th>\n",
       "      <td>1</td>\n",
       "      <td>Turning &amp; Milling Q.C.</td>\n",
       "      <td>2012-03-12 17:00:00+00:00</td>\n",
       "      <td>Quality Check 1</td>\n",
       "      <td>64</td>\n",
       "      <td>Ballnut</td>\n",
       "      <td>D</td>\n",
       "      <td>0</td>\n",
       "      <td>0</td>\n",
       "      <td>0</td>\n",
       "      <td>NA</td>\n",
       "      <td>start</td>\n",
       "    </tr>\n",
       "    <tr>\n",
       "      <th>1</th>\n",
       "      <td>1</td>\n",
       "      <td>Turning &amp; Milling Q.C.</td>\n",
       "      <td>2012-03-13 00:45:13.002321+00:00</td>\n",
       "      <td>Quality Check 1</td>\n",
       "      <td>64</td>\n",
       "      <td>Ballnut</td>\n",
       "      <td>D</td>\n",
       "      <td>0</td>\n",
       "      <td>0</td>\n",
       "      <td>0</td>\n",
       "      <td>NA</td>\n",
       "      <td>complete</td>\n",
       "    </tr>\n",
       "    <tr>\n",
       "      <th>2</th>\n",
       "      <td>1</td>\n",
       "      <td>Turning &amp; Milling Q.C.</td>\n",
       "      <td>2012-03-13 00:45:13.002321+00:00</td>\n",
       "      <td>Quality Check 1</td>\n",
       "      <td>64</td>\n",
       "      <td>Ballnut</td>\n",
       "      <td>D</td>\n",
       "      <td>20</td>\n",
       "      <td>0</td>\n",
       "      <td>0</td>\n",
       "      <td>NA</td>\n",
       "      <td>start</td>\n",
       "    </tr>\n",
       "    <tr>\n",
       "      <th>3</th>\n",
       "      <td>1</td>\n",
       "      <td>Turning &amp; Milling Q.C.</td>\n",
       "      <td>2012-03-13 06:14:20.561314+00:00</td>\n",
       "      <td>Quality Check 1</td>\n",
       "      <td>64</td>\n",
       "      <td>Ballnut</td>\n",
       "      <td>D</td>\n",
       "      <td>20</td>\n",
       "      <td>0</td>\n",
       "      <td>0</td>\n",
       "      <td>NA</td>\n",
       "      <td>complete</td>\n",
       "    </tr>\n",
       "    <tr>\n",
       "      <th>4</th>\n",
       "      <td>1</td>\n",
       "      <td>Turning &amp; Milling Q.C.</td>\n",
       "      <td>2012-03-19 00:50:24.471672+00:00</td>\n",
       "      <td>Quality Check 1</td>\n",
       "      <td>64</td>\n",
       "      <td>Ballnut</td>\n",
       "      <td>D</td>\n",
       "      <td>20</td>\n",
       "      <td>0</td>\n",
       "      <td>0</td>\n",
       "      <td>NA</td>\n",
       "      <td>start</td>\n",
       "    </tr>\n",
       "    <tr>\n",
       "      <th>...</th>\n",
       "      <td>...</td>\n",
       "      <td>...</td>\n",
       "      <td>...</td>\n",
       "      <td>...</td>\n",
       "      <td>...</td>\n",
       "      <td>...</td>\n",
       "      <td>...</td>\n",
       "      <td>...</td>\n",
       "      <td>...</td>\n",
       "      <td>...</td>\n",
       "      <td>...</td>\n",
       "      <td>...</td>\n",
       "    </tr>\n",
       "    <tr>\n",
       "      <th>2691</th>\n",
       "      <td>45</td>\n",
       "      <td>Packing</td>\n",
       "      <td>2012-05-07 00:04:39.823499+00:00</td>\n",
       "      <td>Packing</td>\n",
       "      <td>40</td>\n",
       "      <td>Cable Head</td>\n",
       "      <td>D</td>\n",
       "      <td>64</td>\n",
       "      <td>0</td>\n",
       "      <td>0</td>\n",
       "      <td>NA</td>\n",
       "      <td>complete</td>\n",
       "    </tr>\n",
       "    <tr>\n",
       "      <th>2692</th>\n",
       "      <td>45</td>\n",
       "      <td>Final Inspection Q.C.</td>\n",
       "      <td>2012-05-07 09:23:09.624217+00:00</td>\n",
       "      <td>Quality Check 1</td>\n",
       "      <td>40</td>\n",
       "      <td>Cable Head</td>\n",
       "      <td>D</td>\n",
       "      <td>64</td>\n",
       "      <td>0</td>\n",
       "      <td>0</td>\n",
       "      <td>NA</td>\n",
       "      <td>start</td>\n",
       "    </tr>\n",
       "    <tr>\n",
       "      <th>2693</th>\n",
       "      <td>45</td>\n",
       "      <td>Final Inspection Q.C.</td>\n",
       "      <td>2012-05-07 11:37:52.019246+00:00</td>\n",
       "      <td>Quality Check 1</td>\n",
       "      <td>40</td>\n",
       "      <td>Cable Head</td>\n",
       "      <td>D</td>\n",
       "      <td>64</td>\n",
       "      <td>0</td>\n",
       "      <td>0</td>\n",
       "      <td>NA</td>\n",
       "      <td>complete</td>\n",
       "    </tr>\n",
       "    <tr>\n",
       "      <th>2694</th>\n",
       "      <td>45</td>\n",
       "      <td>Laser Marking - Machine 7</td>\n",
       "      <td>2012-05-09 11:49:34.664863+00:00</td>\n",
       "      <td>Machine 7- Laser Marking</td>\n",
       "      <td>40</td>\n",
       "      <td>Cable Head</td>\n",
       "      <td>D</td>\n",
       "      <td>20</td>\n",
       "      <td>0</td>\n",
       "      <td>0</td>\n",
       "      <td>NA</td>\n",
       "      <td>start</td>\n",
       "    </tr>\n",
       "    <tr>\n",
       "      <th>2695</th>\n",
       "      <td>45</td>\n",
       "      <td>Laser Marking - Machine 7</td>\n",
       "      <td>2012-05-09 11:53:51.097456+00:00</td>\n",
       "      <td>Machine 7- Laser Marking</td>\n",
       "      <td>40</td>\n",
       "      <td>Cable Head</td>\n",
       "      <td>D</td>\n",
       "      <td>20</td>\n",
       "      <td>0</td>\n",
       "      <td>0</td>\n",
       "      <td>NA</td>\n",
       "      <td>complete</td>\n",
       "    </tr>\n",
       "  </tbody>\n",
       "</table>\n",
       "<p>2696 rows × 12 columns</p>\n",
       "</div>"
      ],
      "text/plain": [
       "     case:concept:name               concept:name  \\\n",
       "0                    1     Turning & Milling Q.C.   \n",
       "1                    1     Turning & Milling Q.C.   \n",
       "2                    1     Turning & Milling Q.C.   \n",
       "3                    1     Turning & Milling Q.C.   \n",
       "4                    1     Turning & Milling Q.C.   \n",
       "...                ...                        ...   \n",
       "2691                45                    Packing   \n",
       "2692                45      Final Inspection Q.C.   \n",
       "2693                45      Final Inspection Q.C.   \n",
       "2694                45  Laser Marking - Machine 7   \n",
       "2695                45  Laser Marking - Machine 7   \n",
       "\n",
       "                       time:timestamp              org:resource  \\\n",
       "0           2012-03-12 17:00:00+00:00           Quality Check 1   \n",
       "1    2012-03-13 00:45:13.002321+00:00           Quality Check 1   \n",
       "2    2012-03-13 00:45:13.002321+00:00           Quality Check 1   \n",
       "3    2012-03-13 06:14:20.561314+00:00           Quality Check 1   \n",
       "4    2012-03-19 00:50:24.471672+00:00           Quality Check 1   \n",
       "...                               ...                       ...   \n",
       "2691 2012-05-07 00:04:39.823499+00:00                   Packing   \n",
       "2692 2012-05-07 09:23:09.624217+00:00           Quality Check 1   \n",
       "2693 2012-05-07 11:37:52.019246+00:00           Quality Check 1   \n",
       "2694 2012-05-09 11:49:34.664863+00:00  Machine 7- Laser Marking   \n",
       "2695 2012-05-09 11:53:51.097456+00:00  Machine 7- Laser Marking   \n",
       "\n",
       "      Work Order  Qty  Part Desc. Report Type  Qty Completed  Qty Rejected  \\\n",
       "0                  64     Ballnut           D              0             0   \n",
       "1                  64     Ballnut           D              0             0   \n",
       "2                  64     Ballnut           D             20             0   \n",
       "3                  64     Ballnut           D             20             0   \n",
       "4                  64     Ballnut           D             20             0   \n",
       "...               ...         ...         ...            ...           ...   \n",
       "2691               40  Cable Head           D             64             0   \n",
       "2692               40  Cable Head           D             64             0   \n",
       "2693               40  Cable Head           D             64             0   \n",
       "2694               40  Cable Head           D             20             0   \n",
       "2695               40  Cable Head           D             20             0   \n",
       "\n",
       "      Qty for MRB Rework lifecycle:transition  \n",
       "0               0     NA                start  \n",
       "1               0     NA             complete  \n",
       "2               0     NA                start  \n",
       "3               0     NA             complete  \n",
       "4               0     NA                start  \n",
       "...           ...    ...                  ...  \n",
       "2691            0     NA             complete  \n",
       "2692            0     NA                start  \n",
       "2693            0     NA             complete  \n",
       "2694            0     NA                start  \n",
       "2695            0     NA             complete  \n",
       "\n",
       "[2696 rows x 12 columns]"
      ]
     },
     "execution_count": 7,
     "metadata": {},
     "output_type": "execute_result"
    }
   ],
   "source": [
    "simulated_traces"
   ]
  },
  {
   "cell_type": "code",
   "execution_count": null,
   "metadata": {},
   "outputs": [],
   "source": []
  }
 ],
 "metadata": {
  "kernelspec": {
   "display_name": "Python 3",
   "language": "python",
   "name": "python3"
  },
  "language_info": {
   "codemirror_mode": {
    "name": "ipython",
    "version": 3
   },
   "file_extension": ".py",
   "mimetype": "text/x-python",
   "name": "python",
   "nbconvert_exporter": "python",
   "pygments_lexer": "ipython3",
   "version": "3.11.11"
  }
 },
 "nbformat": 4,
 "nbformat_minor": 2
}
