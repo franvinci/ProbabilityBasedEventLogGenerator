{
 "cells": [
  {
   "cell_type": "code",
   "execution_count": 150,
   "metadata": {},
   "outputs": [],
   "source": [
    "import pandas as pd\n",
    "from src.eventlog_utils import convert_log\n",
    "import pm4py\n",
    "from pm4py.objects.log.importer.xes import importer as xes_importer\n",
    "from log_distance_measures.config import EventLogIDs, AbsoluteTimestampType, discretize_to_hour\n",
    "from log_distance_measures.control_flow_log_distance import control_flow_log_distance\n",
    "from log_distance_measures.n_gram_distribution import n_gram_distribution_distance\n",
    "from log_distance_measures.absolute_event_distribution import absolute_event_distribution_distance\n",
    "from log_distance_measures.case_arrival_distribution import case_arrival_distribution_distance\n",
    "from log_distance_measures.circadian_event_distribution import circadian_event_distribution_distance\n",
    "from log_distance_measures.relative_event_distribution import relative_event_distribution_distance\n",
    "from log_distance_measures.work_in_progress import work_in_progress_distance\n",
    "from log_distance_measures.cycle_time_distribution import cycle_time_distribution_distance\n",
    "from src.res_based_ced import resource_based_circadian_event_distribution_distance"
   ]
  },
  {
   "cell_type": "code",
   "execution_count": 151,
   "metadata": {},
   "outputs": [],
   "source": [
    "case_studies = {\n",
    "    1: 'Consulta',\n",
    "    2: 'Production',\n",
    "    3: 'Purchasing',\n",
    "    4: 'bpi12',\n",
    "    5: 'bpi17'\n",
    "}"
   ]
  },
  {
   "cell_type": "code",
   "execution_count": 152,
   "metadata": {},
   "outputs": [
    {
     "name": "stdout",
     "output_type": "stream",
     "text": [
      "Case study: bpi17\n"
     ]
    }
   ],
   "source": [
    "# chose case study\n",
    "case_study = case_studies[5]\n",
    "\n",
    "# Choose if our approach or Sota\n",
    "our_approach = False\n",
    "Sota = not(our_approach)\n",
    "approach = 'SIMOD' if Sota else None\n",
    "print(f'Case study: {case_study}')"
   ]
  },
  {
   "cell_type": "code",
   "execution_count": 153,
   "metadata": {},
   "outputs": [
    {
     "name": "stderr",
     "output_type": "stream",
     "text": [
      "parsing log, completed traces :: 100%|██████████| 6056/6056 [00:03<00:00, 1877.68it/s]\n"
     ]
    },
    {
     "name": "stdout",
     "output_type": "stream",
     "text": [
      "imported log from Sota, approach: SIMOD ,columns renamed\n"
     ]
    }
   ],
   "source": [
    "log_real = xes_importer.apply(f'data/{case_study}/logTest.xes')\n",
    "log_real = pm4py.convert_to_dataframe(log_real) \n",
    "\n",
    "if our_approach:\n",
    "    log_sim = pd.read_csv(f'simulations/{case_study}/sim.csv')\n",
    "    print('imported log from our approach')\n",
    "\n",
    "elif Sota:\n",
    "    log_sim = pd.read_csv(f'Sota/{case_study}/{approach}/sim.csv')\n",
    "    \n",
    "    #Rename the columns named 'end_timestamp' and 'start_timestamp' with 'time:timestamp' and 'start:timestamp'\n",
    "    log_sim = log_sim.rename(columns={'end_timestamp': 'time:timestamp', \n",
    "                                      'start_timestamp': 'start:timestamp', \n",
    "                                      'task':'concept:name',\n",
    "                                      'caseid': 'case:concept:name'}, errors='ignore')\n",
    "    \n",
    "    # Errors='ignore' has been set because the log from francesca meneghello et al has some columns already correctly\n",
    "\n",
    "    print('imported log from Sota, approach:', approach, ',columns renamed')"
   ]
  },
  {
   "cell_type": "code",
   "execution_count": 154,
   "metadata": {},
   "outputs": [
    {
     "name": "stderr",
     "output_type": "stream",
     "text": [
      "  0%|          | 0/6056 [00:00<?, ?it/s]"
     ]
    },
    {
     "name": "stderr",
     "output_type": "stream",
     "text": [
      "100%|██████████| 6056/6056 [02:16<00:00, 44.33it/s]\n"
     ]
    }
   ],
   "source": [
    "# convert event log format lifecycles\n",
    "if 'lifecycle:transition' in log_real.columns:\n",
    "    log_real = convert_log(log_real)\n",
    "    log_real.rename(columns={'START': 'start:timestamp', 'END': 'time:timestamp'}, errors='ignore', inplace=True)\n",
    "if 'lifecycle:transition' in log_sim.columns:\n",
    "    log_sim = convert_log(log_sim)"
   ]
  },
  {
   "cell_type": "code",
   "execution_count": 155,
   "metadata": {},
   "outputs": [],
   "source": [
    "# Set event log column ID mapping\n",
    "event_log_ids = EventLogIDs(\n",
    "    case=\"case:concept:name\",\n",
    "    activity=\"concept:name\",\n",
    "    start_time=\"start:timestamp\",\n",
    "    end_time=\"time:timestamp\"\n",
    ")"
   ]
  },
  {
   "cell_type": "code",
   "execution_count": 156,
   "metadata": {},
   "outputs": [],
   "source": [
    "log_real[event_log_ids.start_time] = pd.to_datetime(log_real[event_log_ids.start_time], utc=True)\n",
    "log_real[event_log_ids.end_time] = pd.to_datetime(log_real[event_log_ids.end_time], utc=True)\n",
    "\n",
    "log_sim[event_log_ids.start_time] = pd.to_datetime(log_sim[event_log_ids.start_time], utc=True)\n",
    "log_sim[event_log_ids.end_time] = pd.to_datetime(log_sim[event_log_ids.end_time], utc=True)"
   ]
  },
  {
   "cell_type": "code",
   "execution_count": 157,
   "metadata": {},
   "outputs": [
    {
     "data": {
      "text/plain": [
       "Index(['case:concept:name', 'concept:name', 'start:timestamp',\n",
       "       'time:timestamp', 'resource'],\n",
       "      dtype='object')"
      ]
     },
     "execution_count": 157,
     "metadata": {},
     "output_type": "execute_result"
    }
   ],
   "source": [
    "log_sim.columns"
   ]
  },
  {
   "cell_type": "code",
   "execution_count": 158,
   "metadata": {},
   "outputs": [],
   "source": [
    "#Initialize distances dictionary\n",
    "distances = {}"
   ]
  },
  {
   "cell_type": "markdown",
   "metadata": {},
   "source": [
    "### Control-flow Log Distance"
   ]
  },
  {
   "cell_type": "markdown",
   "metadata": {},
   "source": [
    "<b>WARNING: It may take a long time</b>"
   ]
  },
  {
   "cell_type": "code",
   "execution_count": 159,
   "metadata": {},
   "outputs": [],
   "source": [
    "# Call passing the event logs, and its column ID mappings\n",
    "distance = control_flow_log_distance(\n",
    "    log_real, event_log_ids,  # First event log and its column id mappings\n",
    "    log_sim, event_log_ids,  # Second event log and its column id mappings\n",
    ")"
   ]
  },
  {
   "cell_type": "code",
   "execution_count": 160,
   "metadata": {},
   "outputs": [
    {
     "name": "stdout",
     "output_type": "stream",
     "text": [
      "CF Log distance:  0.6084023004567812\n"
     ]
    }
   ],
   "source": [
    "print('CF Log distance: ', distance)\n",
    "\n",
    "# Fill the distances dictionary\n",
    "distances['control_flow_log_distance'] = distance\n"
   ]
  },
  {
   "cell_type": "markdown",
   "metadata": {},
   "source": [
    "### N-Gram Distribution Distance"
   ]
  },
  {
   "cell_type": "code",
   "execution_count": 161,
   "metadata": {},
   "outputs": [],
   "source": [
    "n_gram = 5"
   ]
  },
  {
   "cell_type": "code",
   "execution_count": 162,
   "metadata": {},
   "outputs": [],
   "source": [
    "# Call passing the event logs, and its column ID mappings\n",
    "distance = n_gram_distribution_distance(\n",
    "    log_real, event_log_ids,  # First event log and its column id mappings\n",
    "    log_sim, event_log_ids,  # Second event log and its column id mappings\n",
    "    n=n_gram\n",
    ")"
   ]
  },
  {
   "cell_type": "code",
   "execution_count": 163,
   "metadata": {},
   "outputs": [
    {
     "name": "stdout",
     "output_type": "stream",
     "text": [
      "N-Gram distr. distance:  0.998245753927119\n"
     ]
    }
   ],
   "source": [
    "print('N-Gram distr. distance: ', distance)\n",
    "# Fill the distances dictionary\n",
    "distances['n_gram_distribution_distance'] = distance"
   ]
  },
  {
   "cell_type": "markdown",
   "metadata": {},
   "source": [
    "### Absolute Event Distribution Distance"
   ]
  },
  {
   "cell_type": "code",
   "execution_count": 164,
   "metadata": {},
   "outputs": [],
   "source": [
    "# EMD of the (END) timestamps distribution where each bin represents a minute\n",
    "distance = absolute_event_distribution_distance(\n",
    "    log_real, event_log_ids,\n",
    "    log_sim, event_log_ids,\n",
    "    discretize_type=AbsoluteTimestampType.END,\n",
    "    discretize_event=discretize_to_hour\n",
    ")"
   ]
  },
  {
   "cell_type": "code",
   "execution_count": 165,
   "metadata": {},
   "outputs": [
    {
     "name": "stdout",
     "output_type": "stream",
     "text": [
      "Absolute Event Distribution Distance:  8216.36527786363\n"
     ]
    }
   ],
   "source": [
    "print('Absolute Event Distribution Distance: ', distance)\n",
    "# Fill the distances dictionary\n",
    "distances['absolute_event_distribution_distance'] = distance"
   ]
  },
  {
   "cell_type": "markdown",
   "metadata": {},
   "source": [
    "### Case Arrival Distribution Distance"
   ]
  },
  {
   "cell_type": "code",
   "execution_count": 166,
   "metadata": {},
   "outputs": [],
   "source": [
    "distance = case_arrival_distribution_distance(\n",
    "    log_real, event_log_ids,  # First event log and its column id mappings\n",
    "    log_sim, event_log_ids,  # Second event log and its column id mappings\n",
    "    discretize_event=discretize_to_hour  # Function to discretize each timestamp (default by hour)\n",
    ")"
   ]
  },
  {
   "cell_type": "code",
   "execution_count": 167,
   "metadata": {},
   "outputs": [
    {
     "name": "stdout",
     "output_type": "stream",
     "text": [
      "Case Arrival distr distance:  8252.962379052362\n"
     ]
    }
   ],
   "source": [
    "print('Case Arrival distr distance: ', distance)\n",
    "# Fill the distances dictionary\n",
    "distances['case_arrival_distribution_distance'] = distance"
   ]
  },
  {
   "cell_type": "markdown",
   "metadata": {},
   "source": [
    "### Circadian Event Distribution Distance"
   ]
  },
  {
   "cell_type": "code",
   "execution_count": 168,
   "metadata": {},
   "outputs": [],
   "source": [
    "distance = circadian_event_distribution_distance(\n",
    "    log_real, event_log_ids,  # First event log and its column id mappings\n",
    "    log_sim, event_log_ids,  # Second event log and its column id mappings\n",
    "    discretize_type=AbsoluteTimestampType.BOTH  # Consider both start/end timestamps of each activity instance\n",
    ")"
   ]
  },
  {
   "cell_type": "code",
   "execution_count": 169,
   "metadata": {},
   "outputs": [
    {
     "name": "stdout",
     "output_type": "stream",
     "text": [
      "Circadian Event distr distance:  1.631970045140438\n"
     ]
    }
   ],
   "source": [
    "print('Circadian Event distr distance: ', distance)\n",
    "# Fill the distances dictionary \n",
    "distances['circadian_event_distribution_distance'] = distance"
   ]
  },
  {
   "cell_type": "markdown",
   "metadata": {},
   "source": [
    "### Resource-Based Circadian Event Distribution Distance\n"
   ]
  },
  {
   "cell_type": "code",
   "execution_count": 170,
   "metadata": {},
   "outputs": [],
   "source": [
    "distance = resource_based_circadian_event_distribution_distance(\n",
    "    log_real, event_log_ids,  # First event log and its column id mappings\n",
    "    log_sim, event_log_ids,  # Second event log and its column id mappings\n",
    "    discretize_type=AbsoluteTimestampType.BOTH  # Consider both start/end timestamps of each activity instance\n",
    ")"
   ]
  },
  {
   "cell_type": "code",
   "execution_count": 171,
   "metadata": {},
   "outputs": [
    {
     "name": "stdout",
     "output_type": "stream",
     "text": [
      "Resource-Based Circadian Event distr distance:  nan\n"
     ]
    }
   ],
   "source": [
    "print('Resource-Based Circadian Event distr distance: ', distance)\n",
    "# Fill the distances dictionary \n",
    "distances['resource_based_circadian_event_distribution_distance'] = distance"
   ]
  },
  {
   "cell_type": "markdown",
   "metadata": {},
   "source": [
    "### Relative Event Distribution Distance"
   ]
  },
  {
   "cell_type": "code",
   "execution_count": 172,
   "metadata": {},
   "outputs": [],
   "source": [
    "# Call passing the event logs, its column ID mappings, timestamp type, and discretize function\n",
    "distance = relative_event_distribution_distance(\n",
    "    log_real, event_log_ids,  # First event log and its column id mappings\n",
    "    log_sim, event_log_ids,  # Second event log and its column id mappings\n",
    "    discretize_type=AbsoluteTimestampType.BOTH,  # Type of timestamp distribution (consider start times and/or end times)\n",
    "    discretize_event=discretize_to_hour  # Function to discretize the absolute seconds of each timestamp (default by hour)\n",
    ")"
   ]
  },
  {
   "cell_type": "code",
   "execution_count": 173,
   "metadata": {},
   "outputs": [
    {
     "name": "stdout",
     "output_type": "stream",
     "text": [
      "Relative Event distr distance:  220.45195723711706\n"
     ]
    }
   ],
   "source": [
    "print('Relative Event distr distance: ', distance)\n",
    "# Fill the distances dictionary\n",
    "distances['relative_event_distribution_distance'] = distance"
   ]
  },
  {
   "cell_type": "markdown",
   "metadata": {},
   "source": [
    "### Work in Progress Distance"
   ]
  },
  {
   "cell_type": "markdown",
   "metadata": {},
   "source": [
    "<b>WARNING: It may take a long time</b>"
   ]
  },
  {
   "cell_type": "code",
   "execution_count": 174,
   "metadata": {},
   "outputs": [],
   "source": [
    "# Call passing the event logs, its column ID mappings, timestamp type, and discretize function\n",
    "# distance = work_in_progress_distance(\n",
    "#     log_real, event_log_ids,  # First event log and its column id mappings\n",
    "#     log_sim, event_log_ids,  # Second event log and its column id mappings\n",
    "#     window_size=pd.Timedelta(hours=1)  # Bins of 1 hour\n",
    "# )"
   ]
  },
  {
   "cell_type": "code",
   "execution_count": 175,
   "metadata": {},
   "outputs": [
    {
     "name": "stdout",
     "output_type": "stream",
     "text": [
      "Work in Progress distance:  220.45195723711706\n"
     ]
    }
   ],
   "source": [
    "print('Work in Progress distance: ', distance)\n",
    "# Fill the distances dictionary\n",
    "# distances['work_in_progress_distance'] = distance"
   ]
  },
  {
   "cell_type": "markdown",
   "metadata": {},
   "source": [
    "### Cycle Time Distribution Distance"
   ]
  },
  {
   "cell_type": "code",
   "execution_count": 176,
   "metadata": {},
   "outputs": [],
   "source": [
    "distance = cycle_time_distribution_distance(\n",
    "    log_real, event_log_ids,  # First event log and its column id mappings\n",
    "    log_sim, event_log_ids,  # Second event log and its column id mappings\n",
    "    bin_size=pd.Timedelta(hours=1)  # Bins of 1 minute\n",
    ")"
   ]
  },
  {
   "cell_type": "code",
   "execution_count": 177,
   "metadata": {},
   "outputs": [
    {
     "name": "stdout",
     "output_type": "stream",
     "text": [
      "Cycle Time distr distance:  292.1077339607063\n"
     ]
    }
   ],
   "source": [
    "print('Cycle Time distr distance: ', distance)\n",
    "# Fill the distances dictionary\n",
    "distances['cycle_time_distribution_distance'] = distance"
   ]
  },
  {
   "cell_type": "code",
   "execution_count": 178,
   "metadata": {},
   "outputs": [
    {
     "name": "stdout",
     "output_type": "stream",
     "text": [
      "case study is bpi17 for approach SIMOD, with our approach False and Sota True\n"
     ]
    },
    {
     "data": {
      "text/plain": [
       "{'control_flow_log_distance': 0.6084023004567812,\n",
       " 'n_gram_distribution_distance': 0.998245753927119,\n",
       " 'absolute_event_distribution_distance': 8216.36527786363,\n",
       " 'case_arrival_distribution_distance': 8252.962379052362,\n",
       " 'circadian_event_distribution_distance': 1.631970045140438,\n",
       " 'resource_based_circadian_event_distribution_distance': nan,\n",
       " 'relative_event_distribution_distance': 220.45195723711706,\n",
       " 'cycle_time_distribution_distance': 292.1077339607063}"
      ]
     },
     "execution_count": 178,
     "metadata": {},
     "output_type": "execute_result"
    }
   ],
   "source": [
    "print(f'case study is {case_study} for approach {approach}, with our approach {our_approach} and Sota {Sota}')\n",
    "distances"
   ]
  },
  {
   "cell_type": "markdown",
   "metadata": {},
   "source": [
    "# BPI 17\n",
    "\n",
    "| Model         | Control Flow Log Distance | N-Gram Distribution Distance | Absolute Event Distribution Distance | Case Arrival Distribution Distance | Circadian Event Distribution Distance | Resource-Based Circadian Event Distribution Distance | Relative Event Distribution Distance | Cycle Time Distribution Distance |\n",
    "|---------------|---------------------------|-------------------------------|------------------------------------|-----------------------------------|----------------------------------------|----------------------------------------------------|-----------------------------------|----------------------------------|\n",
    "| Our Approach  | 0.0507                    | 0.0305                        | 82181.627                          | 81896.636                         | 1.6618                                     | 3.0294                                             | 22.3207                           | 36.9247                          |\n",
    "| DSIM          | 0.3949                    | 0.7117                        | 3401.9366                          | 3358.229                          | 2.4363                                     | NaN                                                | 110.0635                          | 142.1077                         |\n",
    "| LSTM          | 0.3899                    | 0.8388                        | 8023.4654                          | 7934.8956                         | 3.5194                                     | NaN                                                | 126.9128                          | 172.2947                         |\n",
    "| LSTM (GAN)    | 0.6411                    | 0.9268                        | 40332.2253                         | 40365.2728                        | 2.9865                                     | NaN                                                | 192.6855                          | 248.3603                         |\n",
    "| SIMOD         | 0.6084                    | 0.9982                        | 8216.3653                          | 8252.9624                         | 1.6320                                     | NaN                                                | 220.4520                          | 292.1077                         |\n",
    "| RIMS          | 0.4821                    | 0.8230                        | 3429.7243                          | 3379.5636                         | 2.2990                                     | NaN                                                | 109.7954                          | 115.2111                         |\n"
   ]
  },
  {
   "cell_type": "markdown",
   "metadata": {},
   "source": [
    "# BPI 12\n",
    "\n",
    "| Model         | Control Flow Log Distance | N-Gram Distribution Distance | Absolute Event Distribution Distance | Case Arrival Distribution Distance | Circadian Event Distribution Distance | Resource-Based Circadian Event Distribution Distance | Relative Event Distribution Distance | Cycle Time Distribution Distance |\n",
    "|---------------|---------------------------|-------------------------------|------------------------------------|-----------------------------------|----------------------------------------|----------------------------------------------------|-----------------------------------|----------------------------------|\n",
    "| Our Approach  | 0.0917                    | 0.0751                        | 55882.5454                         | 55818.7349                        | 6.1194                                     | 5.0836                                             | 61.2669                           | 51.3689                          |\n",
    "| DSIM          | 0.3591                    | 0.7081                        | 1630.4531                          | 1827.3333                         | 5.6947                                     | NaN                                                | 191.2276                          | 172.5630                         |\n",
    "| LSTM          | 0.1849                    | 0.5327                        | 1491.2698                          | 1600.4043                         | 7.7336                                     | NaN                                                | 107.8183                          | 106.4822                         |\n",
    "| LSTM (GAN)    | 0.6433                    | 0.8978                        | 80229.5653                         | 80475.7456                        | 17.9561                                    | NaN                                                | 237.1947                          | 206.7501                         |\n",
    "| SIMOD         | 0.6185                    | 0.9150                        | 1551.0054                          | 1798.3923                         | 7.3284                                     | NaN                                                | 238.9240                          | 207.8781                         |\n",
    "| RIMS          | 0.3823                    | 0.6923                        | 1586.3750                          | 1814.2196                         | 5.5128                                     | NaN                                                | 215.2365                          | 183.5921                         |\n"
   ]
  },
  {
   "cell_type": "markdown",
   "metadata": {},
   "source": [
    "# Consulta\n",
    "\n",
    "| Model         | Control Flow Log Distance | N-Gram Distribution Distance | Absolute Event Distribution Distance | Case Arrival Distribution Distance | Circadian Event Distribution Distance | Resource-Based Circadian Event Distribution Distance | Relative Event Distribution Distance | Work in Progress Distance | Cycle Time Distribution Distance |\n",
    "|---------------|---------------------------|-------------------------------|------------------------------------|-----------------------------------|----------------------------------------|----------------------------------------------------|-----------------------------------|--------------------------|----------------------------------|\n",
    "| Our Approach  | 0.2205                    | 0.3268                        | 92.9667                            | 135.7173                          | 2.6325                                     | 6.2898                                             | 227.882                           | NaN                      | 112.3455                         |\n",
    "| DSIM          | 0.4258                    | 1.0                           | 251.6673                           | 231.1963                          | 3.0753                                     | NaN                                                | 28.712                            | NaN                      | 69.5873                          |\n",
    "| LSTM          | 0.4426                    | 0.9989                        | 543.8277                           | 503.822                           | 21.0959                                    | NaN                                                | 40.0139                           | NaN                      | 106.1552                         |\n",
    "| LSTM (GAN)    | 0.8560                    | 1.0                           | 41162.5108                         | 41186.3461                        | 14.3556                                    | NaN                                                | 37.9526                           | NaN                      | 85.2295                          |\n",
    "| SIMOD         | 0.2250                    | 0.5382                        | 624.8035                           | 645.4194                          | 2.6774                                     | NaN                                                | 28.1857                           | NaN                      | 85.1621                          |\n",
    "| RIMS          | 0.4624                    | 1.0                           | 266.0798                           | 243.6736                          | 3.1837                                     | NaN                                                | 27.8764                           | NaN                      | 73.1648                          |\n"
   ]
  },
  {
   "cell_type": "markdown",
   "metadata": {},
   "source": [
    "## Purchasing\n",
    "\n",
    "| Model         | Control Flow Log Distance | N-Gram Distribution Distance | Absolute Event Distribution Distance | Case Arrival Distribution Distance | Circadian Event Distribution Distance | Resource-Based Circadian Event Distribution Distance | Relative Event Distribution Distance | Work in Progress Distance | Cycle Time Distribution Distance |\n",
    "|---------------|---------------------------|-------------------------------|------------------------------------|-----------------------------------|----------------------------------------|----------------------------------------------------|-----------------------------------|--------------------------|----------------------------------|\n",
    "| Our Approach  | 0.363                     | 0.269                         | 782.527                            | 554.942                           | 0.617                                      | 5.45                                               | 525.61                            | NaN                      | 414.55                           |\n",
    "| LSTM          | 0.4864                    | 0.8282                        | 1300.409                           | 847.525                           | 2.5268                                     | 2.5268                                             | 826.602                           | NaN                      | 698.3427                         |\n",
    "| RIMS          | 0.4794                    | 0.4953                        | 1079.587                           | 769.022                           | 0.9369                                     | NaN                                                | 688.982                           | NaN                      | 631.5424                         |\n",
    "| SIMOD         | 0.5226                    | 0.6549                        | 787.306                            | 1265.784                          | 4.7083                                     | NaN                                                | 787.647                           | NaN                      | 588.9605                         |\n",
    "| DSIM          | 0.1616                    | 0.3632                        | 1134.681                           | 774.761                           | 0.9966                                     | NaN                                                | 722.356                           | NaN                      | 596.9468                         |\n",
    "| LSTM (GAN)    | 0.8572                    | 0.9908                        | 83375.183                          | 83832.262                         | 3.5611                                     | NaN                                                | 782.089                           | NaN                      | 638.1056                         |\n"
   ]
  },
  {
   "cell_type": "markdown",
   "metadata": {},
   "source": [
    "## Production\n",
    "\n",
    "| Model         | Control Flow Log Distance | N-Gram Distribution Distance | Absolute Event Distribution Distance | Case Arrival Distribution Distance | Circadian Event Distribution Distance | Resource-Based Circadian Event Distribution Distance | Relative Event Distribution Distance | Work in Progress Distance | Cycle Time Distribution Distance |\n",
    "|---------------|---------------------------|-------------------------------|------------------------------------|-----------------------------------|----------------------------------------|----------------------------------------------------|-----------------------------------|--------------------------|----------------------------------|\n",
    "| Our Approach  | 0.4485                    | 0.489                        | 1610.733                           | 1216.288                          | 2.2137                                     | 11.1975                                            | 94.316                           | NaN                      | 171.31                         |\n",
    "| LSTM          | 0.8696                    | 1.0                           | 389.0209                           | 441.5556                          | 18.0232                                    | NaN                                                | 275.048                           | NaN                      | 360.5556                         |\n",
    "| DSIM          | 0.7882                    | 0.9990                        | 378.0306                           | 443.1778                          | 2.5162                                     | NaN                                                | 227.643                           | NaN                      | 301.7556                         |\n",
    "| LSTM (GAN)    | 0.9078                    | 1.0                           | 78504.7324                         | 78575.9556                        | 6.7231                                     | NaN                                                | 232.318                           | NaN                      | 313.1556                         |\n",
    "| SIMOD         | 0.6588                    | 0.8939                        | 1962.0009                          | 1884.0000                         | 3.7217                                     | NaN                                                | 263.869                           | NaN                      | 348.3111                         |\n",
    "| RIMS          | 0.7700                    | 0.9989                        | 371.8265                           | 446.3111                          | 2.5407                                     | NaN                                                | 216.239                           | NaN                      | 285.1333                         |\n"
   ]
  },
  {
   "cell_type": "markdown",
   "metadata": {},
   "source": []
  }
 ],
 "metadata": {
  "kernelspec": {
   "display_name": "Python 3",
   "language": "python",
   "name": "python3"
  },
  "language_info": {
   "codemirror_mode": {
    "name": "ipython",
    "version": 3
   },
   "file_extension": ".py",
   "mimetype": "text/x-python",
   "name": "python",
   "nbconvert_exporter": "python",
   "pygments_lexer": "ipython3",
   "version": "3.10.12"
  }
 },
 "nbformat": 4,
 "nbformat_minor": 2
}
