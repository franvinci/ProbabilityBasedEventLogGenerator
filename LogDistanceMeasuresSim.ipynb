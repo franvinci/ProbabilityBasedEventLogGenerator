{
 "cells": [
  {
   "cell_type": "code",
   "execution_count": 1,
   "metadata": {},
   "outputs": [
    {
     "ename": "ModuleNotFoundError",
     "evalue": "No module named 'log_distance_measures'",
     "output_type": "error",
     "traceback": [
      "\u001b[0;31m---------------------------------------------------------------------------\u001b[0m",
      "\u001b[0;31mModuleNotFoundError\u001b[0m                       Traceback (most recent call last)",
      "Cell \u001b[0;32mIn[1], line 5\u001b[0m\n\u001b[1;32m      3\u001b[0m \u001b[38;5;28;01mimport\u001b[39;00m \u001b[38;5;21;01mpm4py\u001b[39;00m\n\u001b[1;32m      4\u001b[0m \u001b[38;5;28;01mfrom\u001b[39;00m \u001b[38;5;21;01mpm4py\u001b[39;00m\u001b[38;5;21;01m.\u001b[39;00m\u001b[38;5;21;01mobjects\u001b[39;00m\u001b[38;5;21;01m.\u001b[39;00m\u001b[38;5;21;01mlog\u001b[39;00m\u001b[38;5;21;01m.\u001b[39;00m\u001b[38;5;21;01mimporter\u001b[39;00m\u001b[38;5;21;01m.\u001b[39;00m\u001b[38;5;21;01mxes\u001b[39;00m \u001b[38;5;28;01mimport\u001b[39;00m importer \u001b[38;5;28;01mas\u001b[39;00m xes_importer\n\u001b[0;32m----> 5\u001b[0m \u001b[38;5;28;01mfrom\u001b[39;00m \u001b[38;5;21;01mlog_distance_measures\u001b[39;00m\u001b[38;5;21;01m.\u001b[39;00m\u001b[38;5;21;01mconfig\u001b[39;00m \u001b[38;5;28;01mimport\u001b[39;00m EventLogIDs, AbsoluteTimestampType, discretize_to_hour\n\u001b[1;32m      6\u001b[0m \u001b[38;5;28;01mfrom\u001b[39;00m \u001b[38;5;21;01mlog_distance_measures\u001b[39;00m\u001b[38;5;21;01m.\u001b[39;00m\u001b[38;5;21;01mcontrol_flow_log_distance\u001b[39;00m \u001b[38;5;28;01mimport\u001b[39;00m control_flow_log_distance\n\u001b[1;32m      7\u001b[0m \u001b[38;5;28;01mfrom\u001b[39;00m \u001b[38;5;21;01mlog_distance_measures\u001b[39;00m\u001b[38;5;21;01m.\u001b[39;00m\u001b[38;5;21;01mn_gram_distribution\u001b[39;00m \u001b[38;5;28;01mimport\u001b[39;00m n_gram_distribution_distance\n",
      "\u001b[0;31mModuleNotFoundError\u001b[0m: No module named 'log_distance_measures'"
     ]
    }
   ],
   "source": [
    "import pandas as pd\n",
    "from src.eventlog_utils import convert_log\n",
    "import pm4py\n",
    "from pm4py.objects.log.importer.xes import importer as xes_importer\n",
    "from log_distance_measures.config import EventLogIDs, AbsoluteTimestampType, discretize_to_hour\n",
    "from log_distance_measures.control_flow_log_distance import control_flow_log_distance\n",
    "from log_distance_measures.n_gram_distribution import n_gram_distribution_distance\n",
    "from log_distance_measures.absolute_event_distribution import absolute_event_distribution_distance\n",
    "from log_distance_measures.case_arrival_distribution import case_arrival_distribution_distance\n",
    "from log_distance_measures.circadian_event_distribution import circadian_event_distribution_distance\n",
    "from log_distance_measures.relative_event_distribution import relative_event_distribution_distance\n",
    "from log_distance_measures.work_in_progress import work_in_progress_distance\n",
    "from log_distance_measures.cycle_time_distribution import cycle_time_distribution_distance"
   ]
  },
  {
   "cell_type": "code",
   "execution_count": 607,
   "metadata": {},
   "outputs": [],
   "source": [
    "case_studies = {\n",
    "    1: 'Consulta',\n",
    "    2: 'Production',\n",
    "    3: 'Purchasing',\n",
    "    4: 'bpi12',\n",
    "    5: 'bpi17'\n",
    "}"
   ]
  },
  {
   "cell_type": "code",
   "execution_count": 608,
   "metadata": {},
   "outputs": [
    {
     "name": "stdout",
     "output_type": "stream",
     "text": [
      "Case study: bpi17\n"
     ]
    }
   ],
   "source": [
    "# chose case study\n",
    "case_study = case_studies[5]\n",
    "\n",
    "# Choose if our approach or Sota\n",
    "our_approach = True\n",
    "Sota = False\n",
    "approach = 'SIMOD'\n",
    "print(f'Case study: {case_study}')"
   ]
  },
  {
   "cell_type": "code",
   "execution_count": 609,
   "metadata": {},
   "outputs": [
    {
     "name": "stderr",
     "output_type": "stream",
     "text": [
      "parsing log, completed traces :: 100%|██████████| 6056/6056 [00:03<00:00, 1908.11it/s]\n"
     ]
    },
    {
     "name": "stdout",
     "output_type": "stream",
     "text": [
      "imported log from our approach\n"
     ]
    }
   ],
   "source": [
    "log_real = xes_importer.apply(f'data/{case_study}/logTest.xes')\n",
    "log_real = pm4py.convert_to_dataframe(log_real) \n",
    "\n",
    "if our_approach:\n",
    "    log_sim = pd.read_csv(f'simulations/{case_study}/sim.csv')\n",
    "    print('imported log from our approach')\n",
    "\n",
    "elif Sota:\n",
    "    log_sim = pd.read_csv(f'Sota/{case_study}/{approach}/sim.csv')\n",
    "    \n",
    "    #Rename the columns named 'end_timestamp' and 'start_timestamp' with 'time:timestamp' and 'start:timestamp'\n",
    "    log_sim = log_sim.rename(columns={'end_timestamp': 'time:timestamp', \n",
    "                                      'start_timestamp': 'start:timestamp', \n",
    "                                      'task':'concept:name',\n",
    "                                      'caseid': 'case:concept:name'})\n",
    "\n",
    "    print('imported log from Sota, approach:', approach, ',columns renamed')"
   ]
  },
  {
   "cell_type": "code",
   "execution_count": 610,
   "metadata": {},
   "outputs": [
    {
     "name": "stdout",
     "output_type": "stream",
     "text": [
      "2016-01-02 10:45:22+00:00\n",
      "2017-02-01 14:01:24+00:00\n",
      "2016-06-14 13:04:37\n",
      "3000-08-04 14:25:43.594431\n"
     ]
    }
   ],
   "source": [
    "print(min(log_real['time:timestamp']))\n",
    "print(max(log_real['time:timestamp']))\n",
    "print(min(log_sim['time:timestamp']))\n",
    "print(max(log_sim['time:timestamp']))"
   ]
  },
  {
   "cell_type": "code",
   "execution_count": 611,
   "metadata": {},
   "outputs": [
    {
     "name": "stderr",
     "output_type": "stream",
     "text": [
      "  0%|          | 0/6056 [00:00<?, ?it/s]"
     ]
    },
    {
     "name": "stderr",
     "output_type": "stream",
     "text": [
      "100%|██████████| 6056/6056 [02:02<00:00, 49.29it/s]\n",
      "100%|██████████| 6056/6056 [00:50<00:00, 120.50it/s]\n"
     ]
    }
   ],
   "source": [
    "# convert event log format lifecycles\n",
    "if 'lifecycle:transition' in log_real.columns:\n",
    "    log_real = convert_log(log_real)\n",
    "if 'lifecycle:transition' in log_sim.columns:\n",
    "    log_sim = convert_log(log_sim)"
   ]
  },
  {
   "cell_type": "code",
   "execution_count": 612,
   "metadata": {},
   "outputs": [
    {
     "name": "stdout",
     "output_type": "stream",
     "text": [
      "2016-01-02 10:49:28+00:00\n",
      "2017-02-01 14:01:24+00:00\n",
      "2016-06-14 13:04:37\n",
      "3000-08-04 14:25:43.594431\n"
     ]
    }
   ],
   "source": [
    "print(min(log_real['time:timestamp']))\n",
    "print(max(log_real['time:timestamp']))\n",
    "print(min(log_sim['time:timestamp']))\n",
    "print(max(log_sim['time:timestamp']))"
   ]
  },
  {
   "cell_type": "code",
   "execution_count": null,
   "metadata": {},
   "outputs": [],
   "source": [
    "# Set event log column ID mapping\n",
    "event_log_ids = EventLogIDs(\n",
    "    case=\"case:concept:name\",\n",
    "    activity=\"concept:name\",\n",
    "    start_time=\"start:timestamp\",\n",
    "    end_time=\"time:timestamp\"\n",
    ")"
   ]
  },
  {
   "cell_type": "code",
   "execution_count": null,
   "metadata": {},
   "outputs": [],
   "source": [
    "log_real[event_log_ids.start_time] = pd.to_datetime(log_real[event_log_ids.start_time], utc=True)\n",
    "log_real[event_log_ids.end_time] = pd.to_datetime(log_real[event_log_ids.end_time], utc=True)\n",
    "\n",
    "log_sim[event_log_ids.start_time] = pd.to_datetime(log_sim[event_log_ids.start_time], utc=True)\n",
    "log_sim[event_log_ids.end_time] = pd.to_datetime(log_sim[event_log_ids.end_time], utc=True)"
   ]
  },
  {
   "cell_type": "code",
   "execution_count": null,
   "metadata": {},
   "outputs": [],
   "source": [
    "#Initialize distances dictionary\n",
    "distances = {}"
   ]
  },
  {
   "cell_type": "markdown",
   "metadata": {},
   "source": [
    "### Control-flow Log Distance"
   ]
  },
  {
   "cell_type": "markdown",
   "metadata": {},
   "source": [
    "<b>WARNING: It may take a long time</b>"
   ]
  },
  {
   "cell_type": "code",
   "execution_count": null,
   "metadata": {},
   "outputs": [],
   "source": [
    "# Call passing the event logs, and its column ID mappings\n",
    "distance = control_flow_log_distance(\n",
    "    log_real, event_log_ids,  # First event log and its column id mappings\n",
    "    log_sim, event_log_ids,  # Second event log and its column id mappings\n",
    ")"
   ]
  },
  {
   "cell_type": "code",
   "execution_count": null,
   "metadata": {},
   "outputs": [
    {
     "name": "stdout",
     "output_type": "stream",
     "text": [
      "CF Log distance:  0.053923808562558316\n"
     ]
    }
   ],
   "source": [
    "print('CF Log distance: ', distance)\n",
    "\n",
    "# Fill the distances dictionary\n",
    "distances['control_flow_log_distance'] = distance\n"
   ]
  },
  {
   "cell_type": "markdown",
   "metadata": {},
   "source": [
    "### N-Gram Distribution Distance"
   ]
  },
  {
   "cell_type": "code",
   "execution_count": null,
   "metadata": {},
   "outputs": [],
   "source": [
    "n_gram = 5"
   ]
  },
  {
   "cell_type": "code",
   "execution_count": null,
   "metadata": {},
   "outputs": [],
   "source": [
    "# Call passing the event logs, and its column ID mappings\n",
    "distance = n_gram_distribution_distance(\n",
    "    log_real, event_log_ids,  # First event log and its column id mappings\n",
    "    log_sim, event_log_ids,  # Second event log and its column id mappings\n",
    "    n=n_gram\n",
    ")"
   ]
  },
  {
   "cell_type": "code",
   "execution_count": null,
   "metadata": {},
   "outputs": [
    {
     "name": "stdout",
     "output_type": "stream",
     "text": [
      "N-Gram distr. distance:  0.028848404731413778\n"
     ]
    }
   ],
   "source": [
    "print('N-Gram distr. distance: ', distance)\n",
    "# Fill the distances dictionary\n",
    "distances['n_gram_distribution_distance'] = distance"
   ]
  },
  {
   "cell_type": "markdown",
   "metadata": {},
   "source": [
    "### Absolute Event Distribution Distance"
   ]
  },
  {
   "cell_type": "code",
   "execution_count": null,
   "metadata": {},
   "outputs": [
    {
     "ename": "TypeError",
     "evalue": "'<' not supported between instances of 'str' and 'Timestamp'",
     "output_type": "error",
     "traceback": [
      "\u001b[0;31m---------------------------------------------------------------------------\u001b[0m",
      "\u001b[0;31mTypeError\u001b[0m                                 Traceback (most recent call last)",
      "Cell \u001b[0;32mIn[585], line 2\u001b[0m\n\u001b[1;32m      1\u001b[0m \u001b[38;5;66;03m# EMD of the (END) timestamps distribution where each bin represents a minute\u001b[39;00m\n\u001b[0;32m----> 2\u001b[0m distance \u001b[38;5;241m=\u001b[39m \u001b[43mabsolute_event_distribution_distance\u001b[49m\u001b[43m(\u001b[49m\n\u001b[1;32m      3\u001b[0m \u001b[43m    \u001b[49m\u001b[43mlog_real\u001b[49m\u001b[43m,\u001b[49m\u001b[43m \u001b[49m\u001b[43mevent_log_ids\u001b[49m\u001b[43m,\u001b[49m\n\u001b[1;32m      4\u001b[0m \u001b[43m    \u001b[49m\u001b[43mlog_sim\u001b[49m\u001b[43m,\u001b[49m\u001b[43m \u001b[49m\u001b[43mevent_log_ids\u001b[49m\u001b[43m,\u001b[49m\n\u001b[1;32m      5\u001b[0m \u001b[43m    \u001b[49m\u001b[43mdiscretize_type\u001b[49m\u001b[38;5;241;43m=\u001b[39;49m\u001b[43mAbsoluteTimestampType\u001b[49m\u001b[38;5;241;43m.\u001b[39;49m\u001b[43mEND\u001b[49m\u001b[43m,\u001b[49m\n\u001b[1;32m      6\u001b[0m \u001b[43m    \u001b[49m\u001b[43mdiscretize_event\u001b[49m\u001b[38;5;241;43m=\u001b[39;49m\u001b[43mdiscretize_to_hour\u001b[49m\n\u001b[1;32m      7\u001b[0m \u001b[43m)\u001b[49m\n",
      "File \u001b[0;32m~/Scrivania/ProbabilityBasedEventLogGenerator/.conda/lib/python3.11/site-packages/log_distance_measures/absolute_event_distribution.py:37\u001b[0m, in \u001b[0;36mabsolute_event_distribution_distance\u001b[0;34m(original_log, original_ids, simulated_log, simulated_ids, discretize_type, discretize_event, metric, normalize)\u001b[0m\n\u001b[1;32m     20\u001b[0m \u001b[38;5;250m\u001b[39m\u001b[38;5;124;03m\"\"\"\u001b[39;00m\n\u001b[1;32m     21\u001b[0m \u001b[38;5;124;03mEMD (or Wasserstein Distance) between the distribution of timestamps of two event logs. To get this distribution, the timestamps are\u001b[39;00m\n\u001b[1;32m     22\u001b[0m \u001b[38;5;124;03mdiscretized to bins of size given by [discretize_event] (default by hour).\u001b[39;00m\n\u001b[0;32m   (...)\u001b[0m\n\u001b[1;32m     34\u001b[0m \u001b[38;5;124;03mdistance) to transform one timestamp histogram into the other.\u001b[39;00m\n\u001b[1;32m     35\u001b[0m \u001b[38;5;124;03m\"\"\"\u001b[39;00m\n\u001b[1;32m     36\u001b[0m \u001b[38;5;66;03m# Get discretized start and/or end timestamps\u001b[39;00m\n\u001b[0;32m---> 37\u001b[0m original_discrete_events, simulated_discrete_events \u001b[38;5;241m=\u001b[39m \u001b[43m_discretize\u001b[49m\u001b[43m(\u001b[49m\n\u001b[1;32m     38\u001b[0m \u001b[43m    \u001b[49m\u001b[43moriginal_log\u001b[49m\u001b[43m,\u001b[49m\u001b[43m \u001b[49m\u001b[43moriginal_ids\u001b[49m\u001b[43m,\u001b[49m\u001b[43m \u001b[49m\u001b[43msimulated_log\u001b[49m\u001b[43m,\u001b[49m\u001b[43m \u001b[49m\u001b[43msimulated_ids\u001b[49m\u001b[43m,\u001b[49m\u001b[43m \u001b[49m\u001b[43mdiscretize_type\u001b[49m\u001b[43m,\u001b[49m\u001b[43m \u001b[49m\u001b[43mdiscretize_event\u001b[49m\n\u001b[1;32m     39\u001b[0m \u001b[43m\u001b[49m\u001b[43m)\u001b[49m\n\u001b[1;32m     40\u001b[0m \u001b[38;5;66;03m# Compute distance metric\u001b[39;00m\n\u001b[1;32m     41\u001b[0m \u001b[38;5;28;01mif\u001b[39;00m metric \u001b[38;5;241m==\u001b[39m DistanceMetric\u001b[38;5;241m.\u001b[39mEMD:\n",
      "File \u001b[0;32m~/Scrivania/ProbabilityBasedEventLogGenerator/.conda/lib/python3.11/site-packages/log_distance_measures/absolute_event_distribution.py:80\u001b[0m, in \u001b[0;36m_discretize\u001b[0;34m(original_log, original_ids, simulated_log, simulated_ids, discretize_type, discretize_event)\u001b[0m\n\u001b[1;32m     77\u001b[0m \u001b[38;5;66;03m# Get the first and last dates of the log\u001b[39;00m\n\u001b[1;32m     78\u001b[0m \u001b[38;5;28;01mif\u001b[39;00m discretize_type \u001b[38;5;241m==\u001b[39m AbsoluteTimestampType\u001b[38;5;241m.\u001b[39mEND:\n\u001b[1;32m     79\u001b[0m     \u001b[38;5;66;03m# Consider only the 'end' times\u001b[39;00m\n\u001b[0;32m---> 80\u001b[0m     interval_start \u001b[38;5;241m=\u001b[39m \u001b[38;5;28;43mmin\u001b[39;49m\u001b[43m(\u001b[49m\n\u001b[1;32m     81\u001b[0m \u001b[43m        \u001b[49m\u001b[43moriginal_log\u001b[49m\u001b[43m[\u001b[49m\u001b[43moriginal_ids\u001b[49m\u001b[38;5;241;43m.\u001b[39;49m\u001b[43mend_time\u001b[49m\u001b[43m]\u001b[49m\u001b[38;5;241;43m.\u001b[39;49m\u001b[43mmin\u001b[49m\u001b[43m(\u001b[49m\u001b[43m)\u001b[49m\u001b[43m,\u001b[49m\n\u001b[1;32m     82\u001b[0m \u001b[43m        \u001b[49m\u001b[43msimulated_log\u001b[49m\u001b[43m[\u001b[49m\u001b[43msimulated_ids\u001b[49m\u001b[38;5;241;43m.\u001b[39;49m\u001b[43mend_time\u001b[49m\u001b[43m]\u001b[49m\u001b[38;5;241;43m.\u001b[39;49m\u001b[43mmin\u001b[49m\u001b[43m(\u001b[49m\u001b[43m)\u001b[49m\n\u001b[1;32m     83\u001b[0m \u001b[43m    \u001b[49m\u001b[43m)\u001b[49m\u001b[38;5;241m.\u001b[39mfloor(freq\u001b[38;5;241m=\u001b[39m\u001b[38;5;124m'\u001b[39m\u001b[38;5;124mH\u001b[39m\u001b[38;5;124m'\u001b[39m)\n\u001b[1;32m     84\u001b[0m \u001b[38;5;28;01melse\u001b[39;00m:\n\u001b[1;32m     85\u001b[0m     \u001b[38;5;66;03m# Consider only 'start' or both\u001b[39;00m\n\u001b[1;32m     86\u001b[0m     interval_start \u001b[38;5;241m=\u001b[39m \u001b[38;5;28mmin\u001b[39m(\n\u001b[1;32m     87\u001b[0m         original_log[original_ids\u001b[38;5;241m.\u001b[39mstart_time]\u001b[38;5;241m.\u001b[39mmin(),\n\u001b[1;32m     88\u001b[0m         simulated_log[simulated_ids\u001b[38;5;241m.\u001b[39mstart_time]\u001b[38;5;241m.\u001b[39mmin()\n\u001b[1;32m     89\u001b[0m     )\u001b[38;5;241m.\u001b[39mfloor(freq\u001b[38;5;241m=\u001b[39m\u001b[38;5;124m'\u001b[39m\u001b[38;5;124mH\u001b[39m\u001b[38;5;124m'\u001b[39m)\n",
      "\u001b[0;31mTypeError\u001b[0m: '<' not supported between instances of 'str' and 'Timestamp'"
     ]
    }
   ],
   "source": [
    "# EMD of the (END) timestamps distribution where each bin represents a minute\n",
    "distance = absolute_event_distribution_distance(\n",
    "    log_real, event_log_ids,\n",
    "    log_sim, event_log_ids,\n",
    "    discretize_type=AbsoluteTimestampType.END,\n",
    "    discretize_event=discretize_to_hour\n",
    ")"
   ]
  },
  {
   "cell_type": "code",
   "execution_count": null,
   "metadata": {},
   "outputs": [
    {
     "name": "stdout",
     "output_type": "stream",
     "text": [
      "Absolute Event Distribution Distance:  1551.0053650963555\n"
     ]
    }
   ],
   "source": [
    "print('Absolute Event Distribution Distance: ', distance)\n",
    "# Fill the distances dictionary\n",
    "distances['absolute_event_distribution_distance'] = distance"
   ]
  },
  {
   "cell_type": "markdown",
   "metadata": {},
   "source": [
    "### Case Arrival Distribution Distance"
   ]
  },
  {
   "cell_type": "code",
   "execution_count": null,
   "metadata": {},
   "outputs": [],
   "source": [
    "distance = case_arrival_distribution_distance(\n",
    "    log_real, event_log_ids,  # First event log and its column id mappings\n",
    "    log_sim, event_log_ids,  # Second event log and its column id mappings\n",
    "    discretize_event=discretize_to_hour  # Function to discretize each timestamp (default by hour)\n",
    ")"
   ]
  },
  {
   "cell_type": "code",
   "execution_count": null,
   "metadata": {},
   "outputs": [
    {
     "name": "stdout",
     "output_type": "stream",
     "text": [
      "Case Arrival distr distance:  1798.3923210744326\n"
     ]
    }
   ],
   "source": [
    "print('Case Arrival distr distance: ', distance)\n",
    "# Fill the distances dictionary\n",
    "distances['case_arrival_distribution_distance'] = distance"
   ]
  },
  {
   "cell_type": "markdown",
   "metadata": {},
   "source": [
    "### Circadian Event Distribution Distance"
   ]
  },
  {
   "cell_type": "code",
   "execution_count": null,
   "metadata": {},
   "outputs": [],
   "source": [
    "distance = circadian_event_distribution_distance(\n",
    "    log_real, event_log_ids,  # First event log and its column id mappings\n",
    "    log_sim, event_log_ids,  # Second event log and its column id mappings\n",
    "    discretize_type=AbsoluteTimestampType.BOTH  # Consider both start/end timestamps of each activity instance\n",
    ")"
   ]
  },
  {
   "cell_type": "code",
   "execution_count": null,
   "metadata": {},
   "outputs": [
    {
     "name": "stdout",
     "output_type": "stream",
     "text": [
      "Circadian Event distr distance:  7.3283751971662\n"
     ]
    }
   ],
   "source": [
    "print('Circadian Event distr distance: ', distance)\n",
    "# Fill the distances dictionary \n",
    "distances['circadian_event_distribution_distance'] = distance"
   ]
  },
  {
   "cell_type": "markdown",
   "metadata": {},
   "source": [
    "### Relative Event Distribution Distance"
   ]
  },
  {
   "cell_type": "code",
   "execution_count": null,
   "metadata": {},
   "outputs": [],
   "source": [
    "# Call passing the event logs, its column ID mappings, timestamp type, and discretize function\n",
    "distance = relative_event_distribution_distance(\n",
    "    log_real, event_log_ids,  # First event log and its column id mappings\n",
    "    log_sim, event_log_ids,  # Second event log and its column id mappings\n",
    "    discretize_type=AbsoluteTimestampType.BOTH,  # Type of timestamp distribution (consider start times and/or end times)\n",
    "    discretize_event=discretize_to_hour  # Function to discretize the absolute seconds of each timestamp (default by hour)\n",
    ")"
   ]
  },
  {
   "cell_type": "code",
   "execution_count": null,
   "metadata": {},
   "outputs": [
    {
     "name": "stdout",
     "output_type": "stream",
     "text": [
      "Relative Event distr distance:  238.92399980070414\n"
     ]
    }
   ],
   "source": [
    "print('Relative Event distr distance: ', distance)\n",
    "# Fill the distances dictionary\n",
    "distances['relative_event_distribution_distance'] = distance"
   ]
  },
  {
   "cell_type": "markdown",
   "metadata": {},
   "source": [
    "### Work in Progress Distance"
   ]
  },
  {
   "cell_type": "markdown",
   "metadata": {},
   "source": [
    "<b>WARNING: It may take a long time</b>"
   ]
  },
  {
   "cell_type": "code",
   "execution_count": null,
   "metadata": {},
   "outputs": [],
   "source": [
    "# Call passing the event logs, its column ID mappings, timestamp type, and discretize function\n",
    "# distance = work_in_progress_distance(\n",
    "#     log_real, event_log_ids,  # First event log and its column id mappings\n",
    "#     log_sim, event_log_ids,  # Second event log and its column id mappings\n",
    "#     window_size=pd.Timedelta(hours=1)  # Bins of 1 hour\n",
    "# )"
   ]
  },
  {
   "cell_type": "code",
   "execution_count": null,
   "metadata": {},
   "outputs": [
    {
     "name": "stdout",
     "output_type": "stream",
     "text": [
      "Work in Progress distance:  238.92399980070414\n"
     ]
    }
   ],
   "source": [
    "print('Work in Progress distance: ', distance)\n",
    "# Fill the distances dictionary\n",
    "distances['work_in_progress_distance'] = 'NaN'"
   ]
  },
  {
   "cell_type": "markdown",
   "metadata": {},
   "source": [
    "### Cycle Time Distribution Distance"
   ]
  },
  {
   "cell_type": "code",
   "execution_count": null,
   "metadata": {},
   "outputs": [],
   "source": [
    "distance = cycle_time_distribution_distance(\n",
    "    log_real, event_log_ids,  # First event log and its column id mappings\n",
    "    log_sim, event_log_ids,  # Second event log and its column id mappings\n",
    "    bin_size=pd.Timedelta(hours=1)  # Bins of 1 minute\n",
    ")"
   ]
  },
  {
   "cell_type": "code",
   "execution_count": null,
   "metadata": {},
   "outputs": [
    {
     "name": "stdout",
     "output_type": "stream",
     "text": [
      "Cycle Time distr distance:  207.8780629505428\n"
     ]
    }
   ],
   "source": [
    "print('Cycle Time distr distance: ', distance)\n",
    "# Fill the distances dictionary\n",
    "distances['cycle_time_distribution_distance'] = distance"
   ]
  },
  {
   "cell_type": "code",
   "execution_count": null,
   "metadata": {},
   "outputs": [
    {
     "name": "stdout",
     "output_type": "stream",
     "text": [
      "case study is bpi12 for approach SIMOD, with our approach False and Sota True\n"
     ]
    },
    {
     "data": {
      "text/plain": [
       "{'control_flow_log_distance': 0.6185034539309048,\n",
       " 'n_gram_distribution_distance': 0.9149807405351008,\n",
       " 'absolute_event_distribution_distance': 1551.0053650963555,\n",
       " 'case_arrival_distribution_distance': 1798.3923210744326,\n",
       " 'circadian_event_distribution_distance': 7.3283751971662,\n",
       " 'relative_event_distribution_distance': 238.92399980070414,\n",
       " 'work_in_progress_distance': 'NaN',\n",
       " 'cycle_time_distribution_distance': 207.8780629505428}"
      ]
     },
     "execution_count": 570,
     "metadata": {},
     "output_type": "execute_result"
    }
   ],
   "source": [
    "print(f'case study is {case_study} for approach {approach}, with our approach {our_approach} and Sota {Sota}')\n",
    "distances"
   ]
  },
  {
   "cell_type": "markdown",
   "metadata": {},
   "source": [
    "| Distance Measure                       | ProbBased | DSIM    | LSTM    | LSTM(GAN) | SIMOD   |\n",
    "|----------------------------------------|-----------|---------|---------|-----------|---------|\n",
    "| Control-flow Log Distance              | 0.096     | 0.359   | 0.185   | 0.643     | 0.619   |\n",
    "| N-Gram Distribution Distance           | 0.074     | 0.708   | 0.533   | 0.898     | 0.915   |\n",
    "| Absolute Event Distribution Distance   | 594841.618| 1630.453| 1491.270| 80229.565 | 1551.005|\n",
    "| Case Arrival Distribution Distance     | 587953.934| 1827.333| 1600.404| 80475.746 | 1798.392|\n",
    "| Circadian Event Distribution Distance  | 6.665     | 5.695   | 7.733   | 17.956    | 7.328   |\n",
    "| Relative Event Distribution Distance   | 20.980    | 191.228 | 107.818 | 237.195   | 238.924 |\n",
    "| Work in Progress Distance              | NaN       | NaN     | NaN     | NaN       | NaN     |\n",
    "| Cycle Time Distribution Distance       | 17.746    | 172.563 | 106.482 | 206.750   | 207.878 |"
   ]
  },
  {
   "cell_type": "markdown",
   "metadata": {},
   "source": [
    "Here is a markdown table summarizing the obtained distance values for the case study 'Production':\n",
    "\n",
    "| Distance Measure                       | ProbBased | DSIM    | LSTM    | LSTM(GAN) | SIMOD   |\n",
    "|----------------------------------------|-----------|---------|---------|-----------|---------|\n",
    "| Control-flow Log Distance              | 0.305     | 0.161   | 0.486   | 0.857     | 0.523   |\n",
    "| N-Gram Distribution Distance           | 0.243     | 0.363   | 0.828   | 0.991     | 0.655   |\n",
    "| Absolute Event Distribution Distance   | 967.259   | 1134.681| 1300.409| 83375.183 | 787.306 |\n",
    "| Circadian Event Distribution Distance  | 0.938     | 0.997   | 2.526   | 3.561     | 4.708   |\n",
    "| Relative Event Distribution Distance   | 523.096   | 722.356 | 826.602 | 782.089   | 787.647 |\n",
    "| Work in Progress Distance              | 0.248     | 0.340   | 0.386   | 0.979     | 0.211   |\n",
    "| Cycle Time Distribution Distance       | 403.787   | 596.947 | 698.343 | 638.106   | 588.961 |"
   ]
  },
  {
   "cell_type": "markdown",
   "metadata": {},
   "source": [
    "Here is a markdown table summarizing the obtained distance values for the case study 'Production':\n",
    "\n",
    "| Distance Measure                       | ProbBased| DSIM    |LSTM     | LSTM(GAN) | SIMOD   |\n",
    "|----------------------------------------|----------|---------|---------|-----------|---------|\n",
    "| Control-flow Log Distance              | 0.470    | 0.788   | 0.869   | 0.908     | 0.658   |\n",
    "| N-Gram Distribution Distance           | 0.541    | 0.998   | 1.0     | 1.0       | 0.893   |\n",
    "| Absolute Event Distribution Distance   | 3614.320 | 378.030 | 389.020 | 78504.732 | 1962.000|\n",
    "| Case Arrival Distribution Distance     | 3645.666 | 443.177 | 441.555 | 78575.956 | 1884.0  |\n",
    "| Circadian Event Distribution Distance  | 2.498    | 2.516   | 18.023  | 6.723     | 3.721   |\n",
    "| Relative Event Distribution Distance   | 51.523   | 227.642 | 275.048 | 232.318   | 263.868 |\n",
    "| Work in Progress Distance              | 0.367    | 0.224   | 0.225   | 0.988     | 0.480   |\n",
    "| Cycle Time Distribution Distance       | 148.222  | 301.755 | 360.555 | 313.156   | 348.311 |\n"
   ]
  },
  {
   "cell_type": "markdown",
   "metadata": {},
   "source": [
    "Here is a markdown table summarizing the obtained distance values for the case study 'Consulta':\n",
    "\n",
    "| Distance Measure                       | ProbBased| DSIM    |LSTM   | LSTM(GAN) | SIMOD |\n",
    "|----------------------------------------|----------|---------|-------|-----------|-------|\n",
    "| Control-flow Log Distance              | 0.161    | 0.4258  |0.442  |0.856      |0.224  |\n",
    "| N-Gram Distribution Distance           | 0.244    | 1.0     |0.998  |1.0        |0.538  |\n",
    "| Absolute Event Distribution Distance   | 135.874  | 251.667 |543.827|41162.510  |624.803|\n",
    "| Case Arrival Distribution Distance     | 173.586  | 231.196 |503.821|41186.346  |645.419|\n",
    "| Circadian Event Distribution Distance  | 3.457    | 3.07532 |21.095 |14.355     |2.677  |\n",
    "| Relative Event Distribution Distance   | 155.895  | 28.7120 |40.013 |37.952     |28.185 |\n",
    "| Work in Progress Distance              | 0.107    | 0.1728  |0.451  |0.984      |0.312  |\n",
    "| Cycle Time Distribution Distance       | 298.005  | 69.587  |106.155| 85.229    |85.162 |\n"
   ]
  }
 ],
 "metadata": {
  "kernelspec": {
   "display_name": "base",
   "language": "python",
   "name": "python3"
  },
  "language_info": {
   "codemirror_mode": {
    "name": "ipython",
    "version": 3
   },
   "file_extension": ".py",
   "mimetype": "text/x-python",
   "name": "python",
   "nbconvert_exporter": "python",
   "pygments_lexer": "ipython3",
   "version": "3.11.7"
  }
 },
 "nbformat": 4,
 "nbformat_minor": 2
}
