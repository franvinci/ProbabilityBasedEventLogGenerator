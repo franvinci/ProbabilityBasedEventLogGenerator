{
 "cells": [
  {
   "cell_type": "code",
   "execution_count": 65,
   "metadata": {},
   "outputs": [],
   "source": [
    "import pandas as pd\n",
    "from src.eventlog_utils import convert_log\n",
    "import pm4py\n",
    "from pm4py.objects.log.importer.xes import importer as xes_importer\n",
    "from log_distance_measures.config import EventLogIDs, AbsoluteTimestampType, discretize_to_hour\n",
    "from log_distance_measures.control_flow_log_distance import control_flow_log_distance\n",
    "from log_distance_measures.n_gram_distribution import n_gram_distribution_distance\n",
    "from log_distance_measures.absolute_event_distribution import absolute_event_distribution_distance\n",
    "from log_distance_measures.case_arrival_distribution import case_arrival_distribution_distance\n",
    "from log_distance_measures.circadian_event_distribution import circadian_event_distribution_distance\n",
    "from log_distance_measures.relative_event_distribution import relative_event_distribution_distance\n",
    "from log_distance_measures.work_in_progress import work_in_progress_distance\n",
    "from log_distance_measures.cycle_time_distribution import cycle_time_distribution_distance\n",
    "from log_distance_measures import earth_movers_distance\n",
    "from src.res_based_ced import resource_based_circadian_event_distribution_distance\n",
    "from distance_utils import emd_attributes"
   ]
  },
  {
   "cell_type": "code",
   "execution_count": 66,
   "metadata": {},
   "outputs": [],
   "source": [
    "case_studies = {\n",
    "    1: 'Purchasing',\n",
    "    2: 'Production',\n",
    "    3: 'Consulta',\n",
    "    4: 'bpi12',\n",
    "    5: 'bpi17',\n",
    "    6: 'sepsis',\n",
    "    7: 'rtf',\n",
    "    8: 'bpi19'\n",
    "}"
   ]
  },
  {
   "cell_type": "code",
   "execution_count": 67,
   "metadata": {},
   "outputs": [
    {
     "name": "stdout",
     "output_type": "stream",
     "text": [
      "Case study: Purchasing, our approach = False\n"
     ]
    }
   ],
   "source": [
    "# chose case study\n",
    "case_study = case_studies[1]\n",
    "# dire a fra che il k per il controlflow va messo al max, per ora è così\n",
    "\n",
    "# Choose if our approach or Sota\n",
    "our_approach = False\n",
    "Sota = not(our_approach)\n",
    "approach = 'AgentSimulator' if Sota else None\n",
    "print(f'Case study: {case_study}, our approach = {our_approach}')"
   ]
  },
  {
   "cell_type": "code",
   "execution_count": 68,
   "metadata": {},
   "outputs": [
    {
     "data": {
      "application/vnd.jupyter.widget-view+json": {
       "model_id": "f5dd060e924c4bce88f1654833bcdb4c",
       "version_major": 2,
       "version_minor": 0
      },
      "text/plain": [
       "parsing log, completed traces ::   0%|          | 0/122 [00:00<?, ?it/s]"
      ]
     },
     "metadata": {},
     "output_type": "display_data"
    },
    {
     "name": "stdout",
     "output_type": "stream",
     "text": [
      "imported log from Sota, approach: AgentSimulator\n",
      "imported log from Sota, approach: AgentSimulator ,columns renamed\n"
     ]
    }
   ],
   "source": [
    "log_real = xes_importer.apply(f'data/{case_study}/logTest.xes')\n",
    "log_real = pm4py.convert_to_dataframe(log_real)\n",
    "\n",
    "if our_approach:\n",
    "    log_sim = pd.read_csv(f'simulations/{case_study}/sim_0.csv')\n",
    "    print('imported log from our approach')\n",
    "\n",
    "elif Sota:\n",
    "    \n",
    "    if approach == 'RIMS':\n",
    "        log_sim = pd.read_csv(f'RIMS/{case_study}/results/rims/sim.csv')\n",
    "        del log_sim['st_wip']\n",
    "        del log_sim['queue']\n",
    "        del log_sim['st_tsk_wip']\n",
    "        print('imported log from Sota, approach:', approach)        \n",
    "    \n",
    "    elif approach == 'AgentSimulator':\n",
    "        log_sim = pd.read_csv(f'AgentSimulator/{case_study}/main_results/sim.csv')\n",
    "        print('imported log from Sota, approach:', approach)    \n",
    "\n",
    "    elif approach == 'SIMOD':\n",
    "        log_sim = pd.read_csv(f'SIMOD_TEST/{case_study}/output/best_result/evaluation/simulated_log_0.csv')\n",
    "        print('imported log from Sota, approach:', approach)\n",
    "\n",
    "    elif approach == 'DSIM':\n",
    "        log_sim = pd.read_csv(f'DSIM/results/generated_logs/{case_study}/DSIM/sim.csv')\n",
    "        print('imported log from Sota, approach:', approach)\n",
    "\n",
    "    else:\n",
    "        log_sim = pd.read_csv(f'Sota/{case_study}/{approach}/sim.csv')\n",
    "    \n",
    "    #Rename the columns named 'end_timestamp' and 'start_timestamp' with 'time:timestamp' and 'start:timestamp'\n",
    "    log_sim = log_sim.rename(columns={'end_timestamp': 'time:timestamp', \n",
    "                                      'start_timestamp': 'start:timestamp', \n",
    "                                      'task':'concept:name',\n",
    "                                      'caseid': 'case:concept:name',\n",
    "                                      'resource': 'org:resource'}, errors='ignore')\n",
    "    \n",
    "    # Errors='ignore' has been set because the log from francesca meneghello et al has some columns already correctly\n",
    "\n",
    "    print('imported log from Sota, approach:', approach, ',columns renamed')"
   ]
  },
  {
   "cell_type": "code",
   "execution_count": 69,
   "metadata": {},
   "outputs": [
    {
     "name": "stderr",
     "output_type": "stream",
     "text": [
      "100%|██████████| 122/122 [00:01<00:00, 88.35it/s] \n"
     ]
    }
   ],
   "source": [
    "# convert event log format lifecycles\n",
    "if 'lifecycle:transition' in log_real.columns:\n",
    "    log_real = convert_log(log_real)\n",
    "    log_real.rename(columns={'START': 'start:timestamp', 'END': 'time:timestamp'}, errors='ignore', inplace=True)\n",
    "    log_real.reset_index(inplace=True)\n",
    "if 'lifecycle:transition' in log_sim.columns:\n",
    "    log_sim = convert_log(log_sim)\n",
    "    log_sim.reset_index(inplace=True)"
   ]
  },
  {
   "cell_type": "code",
   "execution_count": 70,
   "metadata": {},
   "outputs": [],
   "source": [
    "# Set event log column ID mapping\n",
    "event_log_ids = EventLogIDs(\n",
    "    case=\"case:concept:name\",\n",
    "    activity=\"concept:name\",\n",
    "    start_time=\"start:timestamp\",\n",
    "    end_time=\"time:timestamp\",\n",
    "    resource=\"org:resource\",\n",
    ")"
   ]
  },
  {
   "cell_type": "code",
   "execution_count": 71,
   "metadata": {},
   "outputs": [],
   "source": [
    "log_real[event_log_ids.start_time] = pd.to_datetime(log_real[event_log_ids.start_time], utc=True)\n",
    "log_real[event_log_ids.end_time] = pd.to_datetime(log_real[event_log_ids.end_time], utc=True)\n",
    "\n",
    "log_sim[event_log_ids.start_time] = [i[:19] for i in log_sim[event_log_ids.start_time].values]\n",
    "log_sim[event_log_ids.end_time] = [i[:19] for i in log_sim[event_log_ids.end_time].values]\n",
    "log_sim[event_log_ids.start_time] = pd.to_datetime(log_sim[event_log_ids.start_time], utc=True)\n",
    "log_sim[event_log_ids.end_time] = pd.to_datetime(log_sim[event_log_ids.end_time], utc=True)"
   ]
  },
  {
   "cell_type": "code",
   "execution_count": 72,
   "metadata": {},
   "outputs": [],
   "source": [
    "#Initialize distances dictionary\n",
    "distances = {}"
   ]
  },
  {
   "cell_type": "code",
   "execution_count": 73,
   "metadata": {},
   "outputs": [
    {
     "name": "stdout",
     "output_type": "stream",
     "text": [
      "case study is:  Purchasing CWD is:  0.9235905335782811\n"
     ]
    }
   ],
   "source": [
    "from log_distance_measures.circadian_workforce_distribution import circadian_workforce_distribution_distance\n",
    "print('case study is: ', case_study, 'CWD is: ', circadian_workforce_distribution_distance(log_real, event_log_ids,  # First event log and its column id mappings\n",
    "    log_sim, event_log_ids,  # Second event log and its column id mappings\n",
    "))"
   ]
  },
  {
   "cell_type": "markdown",
   "metadata": {},
   "source": [
    "<b>WARNING: It may take a long time</b>"
   ]
  },
  {
   "cell_type": "markdown",
   "metadata": {},
   "source": [
    "### Control-flow Log Distance"
   ]
  },
  {
   "cell_type": "code",
   "execution_count": 5,
   "metadata": {},
   "outputs": [
    {
     "ename": "NameError",
     "evalue": "name 'control_flow_log_distance' is not defined",
     "output_type": "error",
     "traceback": [
      "\u001b[0;31m---------------------------------------------------------------------------\u001b[0m",
      "\u001b[0;31mNameError\u001b[0m                                 Traceback (most recent call last)",
      "Cell \u001b[0;32mIn[5], line 2\u001b[0m\n\u001b[1;32m      1\u001b[0m \u001b[38;5;66;03m# Call passing the event logs, and its column ID mappings\u001b[39;00m\n\u001b[0;32m----> 2\u001b[0m distance \u001b[38;5;241m=\u001b[39m \u001b[43mcontrol_flow_log_distance\u001b[49m(\n\u001b[1;32m      3\u001b[0m     log_real, event_log_ids,  \u001b[38;5;66;03m# First event log and its column id mappings\u001b[39;00m\n\u001b[1;32m      4\u001b[0m     log_sim, event_log_ids,  \u001b[38;5;66;03m# Second event log and its column id mappings\u001b[39;00m\n\u001b[1;32m      5\u001b[0m )\n",
      "\u001b[0;31mNameError\u001b[0m: name 'control_flow_log_distance' is not defined"
     ]
    }
   ],
   "source": [
    "# Call passing the event logs, and its column ID mappings\n",
    "distance = control_flow_log_distance(\n",
    "    log_real, event_log_ids,  # First event log and its column id mappings\n",
    "    log_sim, event_log_ids,  # Second event log and its column id mappings\n",
    ")"
   ]
  },
  {
   "cell_type": "code",
   "execution_count": 18,
   "metadata": {},
   "outputs": [
    {
     "name": "stdout",
     "output_type": "stream",
     "text": [
      "CF Log distance:  0.7583083633735779\n"
     ]
    }
   ],
   "source": [
    "print('CF Log distance: ', distance)\n",
    "\n",
    "# Fill the distances dictionary\n",
    "distances['control_flow_log_distance'] = distance\n"
   ]
  },
  {
   "cell_type": "markdown",
   "metadata": {},
   "source": [
    "### N-Gram Distribution Distance"
   ]
  },
  {
   "cell_type": "code",
   "execution_count": 19,
   "metadata": {},
   "outputs": [],
   "source": [
    "n_gram = 3"
   ]
  },
  {
   "cell_type": "code",
   "execution_count": 20,
   "metadata": {},
   "outputs": [],
   "source": [
    "# Call passing the event logs, and its column ID mappings\n",
    "distance = n_gram_distribution_distance(\n",
    "    log_real, event_log_ids,  # First event log and its column id mappings\n",
    "    log_sim, event_log_ids,  # Second event log and its column id mappings\n",
    "    n=n_gram\n",
    ")"
   ]
  },
  {
   "cell_type": "code",
   "execution_count": 21,
   "metadata": {},
   "outputs": [
    {
     "name": "stdout",
     "output_type": "stream",
     "text": [
      "N-Gram distr. distance:  0.9557007988380537\n"
     ]
    }
   ],
   "source": [
    "print('N-Gram distr. distance: ', distance)\n",
    "# Fill the distances dictionary\n",
    "distances['n_gram_distribution_distance'] = distance"
   ]
  },
  {
   "cell_type": "markdown",
   "metadata": {},
   "source": [
    "### Absolute Event Distribution Distance"
   ]
  },
  {
   "cell_type": "code",
   "execution_count": 22,
   "metadata": {},
   "outputs": [],
   "source": [
    "# EMD of the (END) timestamps distribution where each bin represents a minute\n",
    "distance = absolute_event_distribution_distance(\n",
    "    log_real, event_log_ids,\n",
    "    log_sim, event_log_ids,\n",
    "    discretize_type=AbsoluteTimestampType.END,\n",
    "    discretize_event=discretize_to_hour\n",
    ")"
   ]
  },
  {
   "cell_type": "code",
   "execution_count": 23,
   "metadata": {},
   "outputs": [
    {
     "name": "stdout",
     "output_type": "stream",
     "text": [
      "Absolute Event Distribution Distance:  1068.7536020834295\n"
     ]
    }
   ],
   "source": [
    "print('Absolute Event Distribution Distance: ', distance)\n",
    "# Fill the distances dictionary\n",
    "distances['absolute_event_distribution_distance'] = distance"
   ]
  },
  {
   "cell_type": "markdown",
   "metadata": {},
   "source": [
    "### Case Arrival Distribution Distance"
   ]
  },
  {
   "cell_type": "code",
   "execution_count": 24,
   "metadata": {},
   "outputs": [],
   "source": [
    "distance = case_arrival_distribution_distance(\n",
    "    log_real, event_log_ids,  # First event log and its column id mappings\n",
    "    log_sim, event_log_ids,  # Second event log and its column id mappings\n",
    "    discretize_event=discretize_to_hour  # Function to discretize each timestamp (default by hour)\n",
    ")"
   ]
  },
  {
   "cell_type": "code",
   "execution_count": 25,
   "metadata": {},
   "outputs": [
    {
     "name": "stdout",
     "output_type": "stream",
     "text": [
      "Case Arrival distr distance:  691.4105664664828\n"
     ]
    }
   ],
   "source": [
    "print('Case Arrival distr distance: ', distance)\n",
    "# Fill the distances dictionary\n",
    "distances['case_arrival_distribution_distance'] = distance"
   ]
  },
  {
   "cell_type": "markdown",
   "metadata": {},
   "source": [
    "### Circadian Event Distribution Distance"
   ]
  },
  {
   "cell_type": "code",
   "execution_count": 26,
   "metadata": {},
   "outputs": [],
   "source": [
    "distance = circadian_event_distribution_distance(\n",
    "    log_real, event_log_ids,  # First event log and its column id mappings\n",
    "    log_sim, event_log_ids,  # Second event log and its column id mappings\n",
    "    discretize_type=AbsoluteTimestampType.BOTH  # Consider both start/end timestamps of each activity instance\n",
    ")"
   ]
  },
  {
   "cell_type": "code",
   "execution_count": 27,
   "metadata": {},
   "outputs": [
    {
     "name": "stdout",
     "output_type": "stream",
     "text": [
      "Circadian Event distr distance:  0.7772885463251877\n"
     ]
    }
   ],
   "source": [
    "print('Circadian Event distr distance: ', distance)\n",
    "# Fill the distances dictionary \n",
    "distances['circadian_event_distribution_distance'] = distance"
   ]
  },
  {
   "cell_type": "markdown",
   "metadata": {},
   "source": [
    "### Resource-Based Circadian Event Distribution Distance\n"
   ]
  },
  {
   "cell_type": "code",
   "execution_count": 28,
   "metadata": {},
   "outputs": [],
   "source": [
    "distance = resource_based_circadian_event_distribution_distance(\n",
    "    log_real, event_log_ids,  # First event log and its column id mappings\n",
    "    log_sim, event_log_ids,  # Second event log and its column id mappings\n",
    "    discretize_type=AbsoluteTimestampType.BOTH  # Consider both start/end timestamps of each activity instance\n",
    ")"
   ]
  },
  {
   "cell_type": "code",
   "execution_count": 29,
   "metadata": {},
   "outputs": [
    {
     "name": "stdout",
     "output_type": "stream",
     "text": [
      "Resource-Based Circadian Event distr distance:  6.0676713749305184\n"
     ]
    }
   ],
   "source": [
    "print('Resource-Based Circadian Event distr distance: ', distance)\n",
    "# Fill the distances dictionary \n",
    "distances['resource_based_circadian_event_distribution_distance'] = distance"
   ]
  },
  {
   "cell_type": "markdown",
   "metadata": {},
   "source": [
    "### Relative Event Distribution Distance"
   ]
  },
  {
   "cell_type": "code",
   "execution_count": 30,
   "metadata": {},
   "outputs": [],
   "source": [
    "# Call passing the event logs, its column ID mappings, timestamp type, and discretize function\n",
    "distance = relative_event_distribution_distance(\n",
    "    log_real, event_log_ids,  # First event log and its column id mappings\n",
    "    log_sim, event_log_ids,  # Second event log and its column id mappings\n",
    "    discretize_type=AbsoluteTimestampType.BOTH,  # Type of timestamp distribution (consider start times and/or end times)\n",
    "    discretize_event=discretize_to_hour  # Function to discretize the absolute seconds of each timestamp (default by hour)\n",
    ")"
   ]
  },
  {
   "cell_type": "code",
   "execution_count": 31,
   "metadata": {},
   "outputs": [
    {
     "name": "stdout",
     "output_type": "stream",
     "text": [
      "Relative Event distr distance:  749.6818655324919\n"
     ]
    }
   ],
   "source": [
    "print('Relative Event distr distance: ', distance)\n",
    "# Fill the distances dictionary\n",
    "distances['relative_event_distribution_distance'] = distance"
   ]
  },
  {
   "cell_type": "markdown",
   "metadata": {},
   "source": [
    "### Work in Progress Distance"
   ]
  },
  {
   "cell_type": "markdown",
   "metadata": {},
   "source": [
    "<b>WARNING: It may take a long time</b>"
   ]
  },
  {
   "cell_type": "code",
   "execution_count": 32,
   "metadata": {},
   "outputs": [],
   "source": [
    "# # Call passing the event logs, its column ID mappings, timestamp type, and discretize function\n",
    "# distance = work_in_progress_distance(\n",
    "#     log_real, event_log_ids,  # First event log and its column id mappings\n",
    "#     log_sim, event_log_ids,  # Second event log and its column id mappings\n",
    "#     window_size=pd.Timedelta(hours=1)  # Bins of 1 hour\n",
    "# )"
   ]
  },
  {
   "cell_type": "code",
   "execution_count": 33,
   "metadata": {},
   "outputs": [],
   "source": [
    "# print('Work in Progress distance: ', distance)\n",
    "# Fill the distances dictionary\n",
    "# distances['work_in_progress_distance'] = distance"
   ]
  },
  {
   "cell_type": "markdown",
   "metadata": {},
   "source": [
    "### Cycle Time Distribution Distance"
   ]
  },
  {
   "cell_type": "code",
   "execution_count": 34,
   "metadata": {},
   "outputs": [],
   "source": [
    "distance = cycle_time_distribution_distance(\n",
    "    log_real, event_log_ids,  # First event log and its column id mappings\n",
    "    log_sim, event_log_ids,  # Second event log and its column id mappings\n",
    "    bin_size=pd.Timedelta(hours=1)  # Bins of 1 minute\n",
    ")"
   ]
  },
  {
   "cell_type": "code",
   "execution_count": 35,
   "metadata": {},
   "outputs": [
    {
     "name": "stdout",
     "output_type": "stream",
     "text": [
      "Cycle Time distr distance:  551.1017691933129\n"
     ]
    }
   ],
   "source": [
    "print('Cycle Time distr distance: ', distance)\n",
    "# Fill the distances dictionary\n",
    "distances['cycle_time_distribution_distance'] = distance"
   ]
  },
  {
   "cell_type": "markdown",
   "metadata": {},
   "source": [
    "### Generateed Attributes Distribution Distance"
   ]
  },
  {
   "cell_type": "code",
   "execution_count": 36,
   "metadata": {},
   "outputs": [
    {
     "name": "stdout",
     "output_type": "stream",
     "text": [
      "Attr distance:  nan\n"
     ]
    }
   ],
   "source": [
    "distance = emd_attributes(log_real, log_sim, attr_names=[])\n",
    "print('Attr distance: ', distance)\n",
    "# Fill the distances dictionary\n",
    "distances['emd_attributes'] = distance"
   ]
  },
  {
   "cell_type": "markdown",
   "metadata": {},
   "source": [
    "### Save them"
   ]
  },
  {
   "cell_type": "code",
   "execution_count": 37,
   "metadata": {},
   "outputs": [
    {
     "name": "stdout",
     "output_type": "stream",
     "text": [
      "case study is Purchasing for approach AgentSimulator, with our approach False and Sota True\n",
      "control_flow_log_distance 0.7583083633735779\n",
      "n_gram_distribution_distance 0.9557007988380537\n",
      "absolute_event_distribution_distance 1068.7536020834295\n",
      "case_arrival_distribution_distance 691.4105664664828\n",
      "circadian_event_distribution_distance 0.7772885463251877\n",
      "resource_based_circadian_event_distribution_distance 6.0676713749305184\n",
      "relative_event_distribution_distance 749.6818655324919\n",
      "cycle_time_distribution_distance 551.1017691933129\n",
      "emd_attributes nan\n"
     ]
    }
   ],
   "source": [
    "print(f'case study is {case_study} for approach {approach}, with our approach {our_approach} and Sota {Sota}')\n",
    "# Save the distances dictionary to a file with pkl\n",
    "pd.to_pickle(distances, f'simulations/{case_study}/metrics.pkl')\n",
    "\n",
    "# Print the distances vector with each distance measure, in different lines\n",
    "for key, value in distances.items():\n",
    "    print(key, value)\n",
    "\n"
   ]
  }
 ],
 "metadata": {
  "kernelspec": {
   "display_name": ".conda",
   "language": "python",
   "name": "python3"
  },
  "language_info": {
   "codemirror_mode": {
    "name": "ipython",
    "version": 3
   },
   "file_extension": ".py",
   "mimetype": "text/x-python",
   "name": "python",
   "nbconvert_exporter": "python",
   "pygments_lexer": "ipython3",
   "version": "3.11.10"
  }
 },
 "nbformat": 4,
 "nbformat_minor": 2
}
