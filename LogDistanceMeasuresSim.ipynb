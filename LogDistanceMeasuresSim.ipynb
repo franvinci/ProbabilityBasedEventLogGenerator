{
 "cells": [
  {
   "cell_type": "code",
   "execution_count": 30,
   "metadata": {},
   "outputs": [],
   "source": [
    "import pandas as pd\n",
    "from src.eventlog_utils import convert_log\n",
    "import pm4py\n",
    "from pm4py.objects.log.importer.xes import importer as xes_importer\n",
    "from log_distance_measures.config import EventLogIDs, AbsoluteTimestampType, discretize_to_hour\n",
    "from log_distance_measures.control_flow_log_distance import control_flow_log_distance\n",
    "from log_distance_measures.n_gram_distribution import n_gram_distribution_distance\n",
    "from log_distance_measures.absolute_event_distribution import absolute_event_distribution_distance\n",
    "from log_distance_measures.case_arrival_distribution import case_arrival_distribution_distance\n",
    "from log_distance_measures.circadian_event_distribution import circadian_event_distribution_distance\n",
    "from log_distance_measures.relative_event_distribution import relative_event_distribution_distance\n",
    "from log_distance_measures.work_in_progress import work_in_progress_distance\n",
    "from log_distance_measures.cycle_time_distribution import cycle_time_distribution_distance\n",
    "from src.res_based_ced import resource_based_circadian_event_distribution_distance"
   ]
  },
  {
   "cell_type": "code",
   "execution_count": 31,
   "metadata": {},
   "outputs": [],
   "source": [
    "case_studies = {\n",
    "    1: 'Consulta',\n",
    "    2: 'Production',\n",
    "    3: 'Purchasing',\n",
    "    4: 'bpi12',\n",
    "    5: 'bpi17'\n",
    "}"
   ]
  },
  {
   "cell_type": "code",
   "execution_count": 32,
   "metadata": {},
   "outputs": [
    {
     "name": "stdout",
     "output_type": "stream",
     "text": [
      "Case study: Production\n"
     ]
    }
   ],
   "source": [
    "# chose case study\n",
    "case_study = case_studies[3]\n",
    "\n",
    "# Choose if our approach or Sota\n",
    "our_approach = True\n",
    "Sota = not(our_approach)\n",
    "approach = 'DSIM' if Sota else None\n",
    "print(f'Case study: {case_study}')"
   ]
  },
  {
   "cell_type": "code",
   "execution_count": 33,
   "metadata": {},
   "outputs": [
    {
     "name": "stderr",
     "output_type": "stream",
     "text": [
      "parsing log, completed traces :: 100%|██████████| 45/45 [00:00<00:00, 399.81it/s]"
     ]
    },
    {
     "name": "stdout",
     "output_type": "stream",
     "text": [
      "imported log from our approach\n"
     ]
    },
    {
     "name": "stderr",
     "output_type": "stream",
     "text": [
      "\n"
     ]
    }
   ],
   "source": [
    "log_real = xes_importer.apply(f'data/{case_study}/logTest.xes')\n",
    "log_real = pm4py.convert_to_dataframe(log_real) \n",
    "\n",
    "if our_approach:\n",
    "    log_sim = pd.read_csv(f'simulations/{case_study}/sim.csv')\n",
    "    print('imported log from our approach')\n",
    "\n",
    "elif Sota:\n",
    "    log_sim = pd.read_csv(f'Sota/{case_study}/{approach}/sim.csv')\n",
    "    \n",
    "    #Rename the columns named 'end_timestamp' and 'start_timestamp' with 'time:timestamp' and 'start:timestamp'\n",
    "    log_sim = log_sim.rename(columns={'end_timestamp': 'time:timestamp', \n",
    "                                      'start_timestamp': 'start:timestamp', \n",
    "                                      'task':'concept:name',\n",
    "                                      'caseid': 'case:concept:name'}, errors='ignore')\n",
    "    \n",
    "    # Errors='ignore' has been set because the log from francesca meneghello et al has some columns already correctly\n",
    "\n",
    "    print('imported log from Sota, approach:', approach, ',columns renamed')"
   ]
  },
  {
   "cell_type": "code",
   "execution_count": 34,
   "metadata": {},
   "outputs": [
    {
     "name": "stderr",
     "output_type": "stream",
     "text": [
      " 11%|█         | 5/45 [00:00<00:00, 40.19it/s]"
     ]
    },
    {
     "name": "stderr",
     "output_type": "stream",
     "text": [
      "100%|██████████| 45/45 [00:01<00:00, 26.97it/s]\n",
      "100%|██████████| 45/45 [00:01<00:00, 44.71it/s]\n"
     ]
    }
   ],
   "source": [
    "# convert event log format lifecycles\n",
    "if 'lifecycle:transition' in log_real.columns:\n",
    "    log_real = convert_log(log_real)\n",
    "    log_real.rename(columns={'START': 'start:timestamp', 'END': 'time:timestamp'}, errors='ignore', inplace=True)\n",
    "if 'lifecycle:transition' in log_sim.columns:\n",
    "    log_sim = convert_log(log_sim)"
   ]
  },
  {
   "cell_type": "code",
   "execution_count": 35,
   "metadata": {},
   "outputs": [],
   "source": [
    "# Set event log column ID mapping\n",
    "event_log_ids = EventLogIDs(\n",
    "    case=\"case:concept:name\",\n",
    "    activity=\"concept:name\",\n",
    "    start_time=\"start:timestamp\",\n",
    "    end_time=\"time:timestamp\"\n",
    ")"
   ]
  },
  {
   "cell_type": "code",
   "execution_count": 36,
   "metadata": {},
   "outputs": [],
   "source": [
    "log_real[event_log_ids.start_time] = pd.to_datetime(log_real[event_log_ids.start_time], utc=True)\n",
    "log_real[event_log_ids.end_time] = pd.to_datetime(log_real[event_log_ids.end_time], utc=True)\n",
    "\n",
    "log_sim[event_log_ids.start_time] = pd.to_datetime(log_sim[event_log_ids.start_time], utc=True)\n",
    "log_sim[event_log_ids.end_time] = pd.to_datetime(log_sim[event_log_ids.end_time], utc=True)"
   ]
  },
  {
   "cell_type": "code",
   "execution_count": 37,
   "metadata": {},
   "outputs": [
    {
     "data": {
      "text/plain": [
       "Index(['case:concept:name', 'concept:name', 'org:resource', 'start:timestamp',\n",
       "       'time:timestamp'],\n",
       "      dtype='object')"
      ]
     },
     "execution_count": 37,
     "metadata": {},
     "output_type": "execute_result"
    }
   ],
   "source": [
    "log_sim.columns"
   ]
  },
  {
   "cell_type": "code",
   "execution_count": 38,
   "metadata": {},
   "outputs": [],
   "source": [
    "#Initialize distances dictionary\n",
    "distances = {}"
   ]
  },
  {
   "cell_type": "markdown",
   "metadata": {},
   "source": [
    "### Control-flow Log Distance"
   ]
  },
  {
   "cell_type": "markdown",
   "metadata": {},
   "source": [
    "<b>WARNING: It may take a long time</b>"
   ]
  },
  {
   "cell_type": "code",
   "execution_count": 39,
   "metadata": {},
   "outputs": [],
   "source": [
    "# Call passing the event logs, and its column ID mappings\n",
    "distance = control_flow_log_distance(\n",
    "    log_real, event_log_ids,  # First event log and its column id mappings\n",
    "    log_sim, event_log_ids,  # Second event log and its column id mappings\n",
    ")"
   ]
  },
  {
   "cell_type": "code",
   "execution_count": 40,
   "metadata": {},
   "outputs": [
    {
     "name": "stdout",
     "output_type": "stream",
     "text": [
      "CF Log distance:  0.4384692383323182\n"
     ]
    }
   ],
   "source": [
    "print('CF Log distance: ', distance)\n",
    "\n",
    "# Fill the distances dictionary\n",
    "distances['control_flow_log_distance'] = distance\n"
   ]
  },
  {
   "cell_type": "markdown",
   "metadata": {},
   "source": [
    "### N-Gram Distribution Distance"
   ]
  },
  {
   "cell_type": "code",
   "execution_count": 41,
   "metadata": {},
   "outputs": [],
   "source": [
    "n_gram = 5"
   ]
  },
  {
   "cell_type": "code",
   "execution_count": 42,
   "metadata": {},
   "outputs": [],
   "source": [
    "# Call passing the event logs, and its column ID mappings\n",
    "distance = n_gram_distribution_distance(\n",
    "    log_real, event_log_ids,  # First event log and its column id mappings\n",
    "    log_sim, event_log_ids,  # Second event log and its column id mappings\n",
    "    n=n_gram\n",
    ")"
   ]
  },
  {
   "cell_type": "code",
   "execution_count": 43,
   "metadata": {},
   "outputs": [
    {
     "name": "stdout",
     "output_type": "stream",
     "text": [
      "N-Gram distr. distance:  0.48905109489051096\n"
     ]
    }
   ],
   "source": [
    "print('N-Gram distr. distance: ', distance)\n",
    "# Fill the distances dictionary\n",
    "distances['n_gram_distribution_distance'] = distance"
   ]
  },
  {
   "cell_type": "markdown",
   "metadata": {},
   "source": [
    "### Absolute Event Distribution Distance"
   ]
  },
  {
   "cell_type": "code",
   "execution_count": 44,
   "metadata": {},
   "outputs": [],
   "source": [
    "# EMD of the (END) timestamps distribution where each bin represents a minute\n",
    "distance = absolute_event_distribution_distance(\n",
    "    log_real, event_log_ids,\n",
    "    log_sim, event_log_ids,\n",
    "    discretize_type=AbsoluteTimestampType.END,\n",
    "    discretize_event=discretize_to_hour\n",
    ")"
   ]
  },
  {
   "cell_type": "code",
   "execution_count": 45,
   "metadata": {},
   "outputs": [
    {
     "name": "stdout",
     "output_type": "stream",
     "text": [
      "Absolute Event Distribution Distance:  1610.733345382252\n"
     ]
    }
   ],
   "source": [
    "print('Absolute Event Distribution Distance: ', distance)\n",
    "# Fill the distances dictionary\n",
    "distances['absolute_event_distribution_distance'] = distance"
   ]
  },
  {
   "cell_type": "markdown",
   "metadata": {},
   "source": [
    "### Case Arrival Distribution Distance"
   ]
  },
  {
   "cell_type": "code",
   "execution_count": 46,
   "metadata": {},
   "outputs": [],
   "source": [
    "distance = case_arrival_distribution_distance(\n",
    "    log_real, event_log_ids,  # First event log and its column id mappings\n",
    "    log_sim, event_log_ids,  # Second event log and its column id mappings\n",
    "    discretize_event=discretize_to_hour  # Function to discretize each timestamp (default by hour)\n",
    ")"
   ]
  },
  {
   "cell_type": "code",
   "execution_count": 47,
   "metadata": {},
   "outputs": [
    {
     "name": "stdout",
     "output_type": "stream",
     "text": [
      "Case Arrival distr distance:  1216.2888888888888\n"
     ]
    }
   ],
   "source": [
    "print('Case Arrival distr distance: ', distance)\n",
    "# Fill the distances dictionary\n",
    "distances['case_arrival_distribution_distance'] = distance"
   ]
  },
  {
   "cell_type": "markdown",
   "metadata": {},
   "source": [
    "### Circadian Event Distribution Distance"
   ]
  },
  {
   "cell_type": "code",
   "execution_count": 48,
   "metadata": {},
   "outputs": [],
   "source": [
    "distance = circadian_event_distribution_distance(\n",
    "    log_real, event_log_ids,  # First event log and its column id mappings\n",
    "    log_sim, event_log_ids,  # Second event log and its column id mappings\n",
    "    discretize_type=AbsoluteTimestampType.BOTH  # Consider both start/end timestamps of each activity instance\n",
    ")"
   ]
  },
  {
   "cell_type": "code",
   "execution_count": 49,
   "metadata": {},
   "outputs": [
    {
     "name": "stdout",
     "output_type": "stream",
     "text": [
      "Circadian Event distr distance:  2.7675003603184316\n"
     ]
    }
   ],
   "source": [
    "print('Circadian Event distr distance: ', distance)\n",
    "# Fill the distances dictionary \n",
    "distances['circadian_event_distribution_distance'] = distance"
   ]
  },
  {
   "cell_type": "markdown",
   "metadata": {},
   "source": [
    "### Resource-Based Circadian Event Distribution Distance\n"
   ]
  },
  {
   "cell_type": "code",
   "execution_count": 50,
   "metadata": {},
   "outputs": [],
   "source": [
    "distance = resource_based_circadian_event_distribution_distance(\n",
    "    log_real, event_log_ids,  # First event log and its column id mappings\n",
    "    log_sim, event_log_ids,  # Second event log and its column id mappings\n",
    "    discretize_type=AbsoluteTimestampType.BOTH  # Consider both start/end timestamps of each activity instance\n",
    ")"
   ]
  },
  {
   "cell_type": "code",
   "execution_count": 51,
   "metadata": {},
   "outputs": [
    {
     "name": "stdout",
     "output_type": "stream",
     "text": [
      "Resource-Based Circadian Event distr distance:  7.9520930576496935\n"
     ]
    }
   ],
   "source": [
    "print('Resource-Based Circadian Event distr distance: ', distance)\n",
    "# Fill the distances dictionary \n",
    "distances['resource_based_circadian_event_distribution_distance'] = distance"
   ]
  },
  {
   "cell_type": "markdown",
   "metadata": {},
   "source": [
    "### Relative Event Distribution Distance"
   ]
  },
  {
   "cell_type": "code",
   "execution_count": 52,
   "metadata": {},
   "outputs": [],
   "source": [
    "# Call passing the event logs, its column ID mappings, timestamp type, and discretize function\n",
    "distance = relative_event_distribution_distance(\n",
    "    log_real, event_log_ids,  # First event log and its column id mappings\n",
    "    log_sim, event_log_ids,  # Second event log and its column id mappings\n",
    "    discretize_type=AbsoluteTimestampType.BOTH,  # Type of timestamp distribution (consider start times and/or end times)\n",
    "    discretize_event=discretize_to_hour  # Function to discretize the absolute seconds of each timestamp (default by hour)\n",
    ")"
   ]
  },
  {
   "cell_type": "code",
   "execution_count": 53,
   "metadata": {},
   "outputs": [
    {
     "name": "stdout",
     "output_type": "stream",
     "text": [
      "Relative Event distr distance:  94.31623983372491\n"
     ]
    }
   ],
   "source": [
    "print('Relative Event distr distance: ', distance)\n",
    "# Fill the distances dictionary\n",
    "distances['relative_event_distribution_distance'] = distance"
   ]
  },
  {
   "cell_type": "markdown",
   "metadata": {},
   "source": [
    "### Work in Progress Distance"
   ]
  },
  {
   "cell_type": "markdown",
   "metadata": {},
   "source": [
    "<b>WARNING: It may take a long time</b>"
   ]
  },
  {
   "cell_type": "code",
   "execution_count": 54,
   "metadata": {},
   "outputs": [
    {
     "name": "stdout",
     "output_type": "stream",
     "text": [
      "WARNING! The normalization of a Wasserstein Distance is sensitive to the range of the two samples, long samples may cause a higher reduction of the error.\n"
     ]
    }
   ],
   "source": [
    "# Call passing the event logs, its column ID mappings, timestamp type, and discretize function\n",
    "distance = work_in_progress_distance(\n",
    "    log_real, event_log_ids,  # First event log and its column id mappings\n",
    "    log_sim, event_log_ids,  # Second event log and its column id mappings\n",
    "    window_size=pd.Timedelta(hours=1)  # Bins of 1 hour\n",
    ")"
   ]
  },
  {
   "cell_type": "code",
   "execution_count": 55,
   "metadata": {},
   "outputs": [
    {
     "name": "stdout",
     "output_type": "stream",
     "text": [
      "Work in Progress distance:  0.3376140634002855\n"
     ]
    }
   ],
   "source": [
    "print('Work in Progress distance: ', distance)\n",
    "# Fill the distances dictionary\n",
    "distances['work_in_progress_distance'] = 'NaN'"
   ]
  },
  {
   "cell_type": "markdown",
   "metadata": {},
   "source": [
    "### Cycle Time Distribution Distance"
   ]
  },
  {
   "cell_type": "code",
   "execution_count": 56,
   "metadata": {},
   "outputs": [],
   "source": [
    "distance = cycle_time_distribution_distance(\n",
    "    log_real, event_log_ids,  # First event log and its column id mappings\n",
    "    log_sim, event_log_ids,  # Second event log and its column id mappings\n",
    "    bin_size=pd.Timedelta(hours=1)  # Bins of 1 minute\n",
    ")"
   ]
  },
  {
   "cell_type": "code",
   "execution_count": 57,
   "metadata": {},
   "outputs": [
    {
     "name": "stdout",
     "output_type": "stream",
     "text": [
      "Cycle Time distr distance:  171.31111111111113\n"
     ]
    }
   ],
   "source": [
    "print('Cycle Time distr distance: ', distance)\n",
    "# Fill the distances dictionary\n",
    "distances['cycle_time_distribution_distance'] = distance"
   ]
  },
  {
   "cell_type": "code",
   "execution_count": 58,
   "metadata": {},
   "outputs": [
    {
     "name": "stdout",
     "output_type": "stream",
     "text": [
      "case study is Production for approach None, with our approach True and Sota False\n"
     ]
    },
    {
     "data": {
      "text/plain": [
       "{'control_flow_log_distance': 0.4384692383323182,\n",
       " 'n_gram_distribution_distance': 0.48905109489051096,\n",
       " 'absolute_event_distribution_distance': 1610.733345382252,\n",
       " 'case_arrival_distribution_distance': 1216.2888888888888,\n",
       " 'circadian_event_distribution_distance': 2.7675003603184316,\n",
       " 'resource_based_circadian_event_distribution_distance': 7.9520930576496935,\n",
       " 'relative_event_distribution_distance': 94.31623983372491,\n",
       " 'work_in_progress_distance': 'NaN',\n",
       " 'cycle_time_distribution_distance': 171.31111111111113}"
      ]
     },
     "execution_count": 58,
     "metadata": {},
     "output_type": "execute_result"
    }
   ],
   "source": [
    "print(f'case study is {case_study} for approach {approach}, with our approach {our_approach} and Sota {Sota}')\n",
    "distances"
   ]
  },
  {
   "cell_type": "markdown",
   "metadata": {},
   "source": [
    "## Purchasing Old\n",
    "\n",
    "| Model         | Control Flow Log Distance | N-Gram Distribution Distance | Absolute Event Distribution Distance | Case Arrival Distribution Distance | Circadian Event Distribution Distance | Resource-Based Circadian Event Distribution Distance | Relative Event Distribution Distance | Work in Progress Distance | Cycle Time Distribution Distance |\n",
    "|---------------|---------------------------|-------------------------------|------------------------------------|-----------------------------------|----------------------------------------|----------------------------------------------------|-----------------------------------|--------------------------|----------------------------------|\n",
    "| LSTM          | 0.4864                    | 0.8282                        | 1300.409                           | 847.525                           | 2.5268                                     | 2.5268                                             | 826.602                           | NaN                      | 698.3427                         |\n",
    "| Our Approach  | 0.3655                    | 0.2872                        | 963.281                            | 769.008                           | 0.7557                                     | 0.7557                                             | 536.862                           | NaN                      | 444.0492                         |\n",
    "| RIMS          | 0.4794                    | 0.4953                        | 1079.587                           | 769.022                           | 0.9369                                     | NaN                                                | 688.982                           | NaN                      | 631.5424                         |\n",
    "| SIMOD         | 0.5226                    | 0.6549                        | 787.306                            | 1265.784                          | 4.7083                                     | NaN                                                | 787.647                           | NaN                      | 588.9605                         |\n",
    "| DSIM          | 0.1616                    | 0.3632                        | 1134.681                           | 774.761                           | 0.9966                                     | NaN                                                | 722.356                           | NaN                      | 596.9468                         |\n",
    "| LSTM (GAN)    | 0.8572                    | 0.9908                        | 83375.183                          | 83832.262                         | 3.5611                                     | NaN                                                | 782.089                           | NaN                      | 638.1056                         |\n"
   ]
  },
  {
   "cell_type": "markdown",
   "metadata": {},
   "source": [
    "## Production updated\n",
    "\n",
    "| Model         | Control Flow Log Distance | N-Gram Distribution Distance | Absolute Event Distribution Distance | Case Arrival Distribution Distance | Circadian Event Distribution Distance | Resource-Based Circadian Event Distribution Distance | Relative Event Distribution Distance | Work in Progress Distance | Cycle Time Distribution Distance |\n",
    "|---------------|---------------------------|-------------------------------|------------------------------------|-----------------------------------|----------------------------------------|----------------------------------------------------|-----------------------------------|--------------------------|----------------------------------|\n",
    "| Our Approach  | 0.4485                    | 0.489                        | 1610.733                           | 1216.288                          | 2.6437                                     | 11.1975                                            | 94.316                           | NaN                      | 171.31                         |\n",
    "| LSTM          | 0.8696                    | 1.0                           | 389.0209                           | 441.5556                          | 18.0232                                    | NaN                                                | 275.048                           | NaN                      | 360.5556                         |\n",
    "| DSIM          | 0.7882                    | 0.9990                        | 378.0306                           | 443.1778                          | 2.5162                                     | NaN                                                | 227.643                           | NaN                      | 301.7556                         |\n",
    "| LSTM (GAN)    | 0.9078                    | 1.0                           | 78504.7324                         | 78575.9556                        | 6.7231                                     | NaN                                                | 232.318                           | NaN                      | 313.1556                         |\n",
    "| SIMOD         | 0.6588                    | 0.8939                        | 1962.0009                          | 1884.0000                         | 3.7217                                     | NaN                                                | 263.869                           | NaN                      | 348.3111                         |\n",
    "| RIMS          | 0.7700                    | 0.9989                        | 371.8265                           | 446.3111                          | 2.5407                                     | NaN                                                | 216.239                           | NaN                      | 285.1333                         |\n"
   ]
  },
  {
   "cell_type": "markdown",
   "metadata": {},
   "source": []
  }
 ],
 "metadata": {
  "kernelspec": {
   "display_name": "Python 3",
   "language": "python",
   "name": "python3"
  },
  "language_info": {
   "codemirror_mode": {
    "name": "ipython",
    "version": 3
   },
   "file_extension": ".py",
   "mimetype": "text/x-python",
   "name": "python",
   "nbconvert_exporter": "python",
   "pygments_lexer": "ipython3",
   "version": "3.10.12"
  }
 },
 "nbformat": 4,
 "nbformat_minor": 2
}
